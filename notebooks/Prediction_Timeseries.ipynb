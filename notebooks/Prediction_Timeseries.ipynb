{
 "cells": [
  {
   "cell_type": "code",
   "execution_count": null,
   "metadata": {},
   "outputs": [],
   "source": [
    "import os\n",
    "import site\n",
    "os.sys.path.insert(0, '/home/schirrmr/braindecode/code/')\n",
    "os.sys.path.insert(0, '/home/schirrmr/braindecode/code/braindecode/')\n",
    "os.sys.path.insert(0, '/home/schirrmr/code/auto-diagnosis/')\n",
    "%cd /home/schirrmr/\n",
    "# switch to cpu\n",
    "os.environ['THEANO_FLAGS'] = 'floatX=float32,device=cpu,nvcc.fastmath=True'\n",
    "\n",
    "%load_ext autoreload\n",
    "%autoreload 2\n",
    "import numpy as np\n",
    "import matplotlib\n",
    "from matplotlib import pyplot as plt\n",
    "from matplotlib import cm\n",
    "%matplotlib inline\n",
    "%config InlineBackend.figure_format = 'png' \n",
    "matplotlib.rcParams['font.size'] = 7\n",
    "\n",
    "import matplotlib.lines as mlines\n",
    "import seaborn\n",
    "seaborn.set_style('darkgrid')\n",
    "matplotlib.rcParams['figure.figsize'] = (12.0, 3.0)\n",
    "import logging\n",
    "import importlib\n",
    "importlib.reload(logging) # see https://stackoverflow.com/a/21475297/1469195\n",
    "log = logging.getLogger()\n",
    "log.setLevel('DEBUG')\n",
    "import sys\n",
    "logging.basicConfig(format='%(asctime)s %(levelname)s : %(message)s',\n",
    "                     level=logging.DEBUG, stream=sys.stdout)\n",
    "from numpy.random import RandomState\n",
    "from braindecode.torch_ext.util import np_to_var\n",
    "from autodiag.perturbation import combine_covs, combine_vars"
   ]
  },
  {
   "cell_type": "code",
   "execution_count": null,
   "metadata": {
    "collapsed": true
   },
   "outputs": [],
   "source": [
    "crop_preds = np.load('data/models/pytorch/auto-diag/6000-input/24/test_crop_preds.npy')\n",
    "trial_labels = np.load('data/models/pytorch/auto-diag/6000-input/24/test_trial_labels.npy')"
   ]
  },
  {
   "cell_type": "code",
   "execution_count": null,
   "metadata": {},
   "outputs": [],
   "source": [
    "crop_preds[0].shape"
   ]
  },
  {
   "cell_type": "code",
   "execution_count": null,
   "metadata": {},
   "outputs": [],
   "source": [
    "np.concatenate(crop_preds[0], axis=1).shape"
   ]
  },
  {
   "cell_type": "code",
   "execution_count": null,
   "metadata": {
    "collapsed": true
   },
   "outputs": [],
   "source": [
    "trial_preds = [np.concatenate(c[:-1], axis=1) for c in crop_preds]"
   ]
  },
  {
   "cell_type": "code",
   "execution_count": null,
   "metadata": {},
   "outputs": [],
   "source": [
    "np.mean(np.argmax([np.mean(c, axis=(0,2)) for c in crop_preds], axis=1) == trial_labels)"
   ]
  },
  {
   "cell_type": "code",
   "execution_count": null,
   "metadata": {
    "collapsed": true
   },
   "outputs": [],
   "source": [
    "max_shape = np.max([list(t.shape) for t in trial_preds], axis=0)"
   ]
  },
  {
   "cell_type": "code",
   "execution_count": null,
   "metadata": {},
   "outputs": [],
   "source": [
    "max_shape"
   ]
  },
  {
   "cell_type": "code",
   "execution_count": null,
   "metadata": {
    "collapsed": true
   },
   "outputs": [],
   "source": [
    "preds_padded = np.full((len(trial_preds), max_shape[1], max_shape[0]),np.nan)\n",
    "\n",
    "for i_trial, trial_pred in enumerate(trial_preds):\n",
    "    preds_padded[i_trial,:trial_pred.shape[1]] =  trial_pred.T\n",
    "\n",
    "nan_mask = (0 * preds_padded + 1)[:,:,0]\n",
    "\n",
    "labels_padded = np.argmax(preds_padded, axis=2)\n",
    "\n",
    "pred_correct = labels_padded == trial_labels[:,None]\n",
    "\n",
    "pred_correct = pred_correct * nan_mask\n",
    "\n",
    "correct_timecourse = np.nanmean(pred_correct, axis=0) * 100\n",
    "correct_std_timecourse = np.nanstd(pred_correct, axis=0) * 100"
   ]
  },
  {
   "cell_type": "code",
   "execution_count": null,
   "metadata": {},
   "outputs": [],
   "source": [
    "plt.plot((600 + np.arange(len(correct_timecourse))) / 100.0,correct_timecourse)\n",
    "plt.fill_between((600 + np.arange(len(correct_timecourse))) / 100.0,\n",
    "                 correct_timecourse - correct_std_timecourse / np.sqrt(len(pred_correct)),\n",
    "                 correct_timecourse + correct_std_timecourse / np.sqrt(len(pred_correct)),\n",
    "            alpha=0.3)\n",
    "plt.xlabel('Time [sec]', fontsize=14)\n",
    "plt.ylabel('Accuracy [%]', fontsize=14)"
   ]
  },
  {
   "cell_type": "code",
   "execution_count": null,
   "metadata": {},
   "outputs": [],
   "source": [
    "plt.plot((600 + np.arange(len(correct_timecourse))) / 100.0,correct_timecourse)\n",
    "plt.fill_between((600 + np.arange(len(correct_timecourse))) / 100.0,\n",
    "                 correct_timecourse - correct_std_timecourse / np.sqrt(len(pred_correct)),\n",
    "                 correct_timecourse + correct_std_timecourse / np.sqrt(len(pred_correct)),\n",
    "            alpha=0.5)\n",
    "plt.xlabel('Time [sec]', fontsize=14)\n",
    "plt.ylabel('Accuracy [%]', fontsize=14)"
   ]
  },
  {
   "cell_type": "code",
   "execution_count": null,
   "metadata": {
    "collapsed": true
   },
   "outputs": [],
   "source": [
    "from rtsutil.stats import running_mean"
   ]
  },
  {
   "cell_type": "code",
   "execution_count": null,
   "metadata": {},
   "outputs": [],
   "source": [
    "n_smooth_samples = 1200\n",
    "smoothed_timecourse = running_mean(correct_timecourse,n_smooth_samples,)\n",
    "smoothed_std = running_mean(correct_std_timecourse,n_smooth_samples,)\n",
    "plt.plot((n_smooth_samples / 2 + 600 + np.arange(len(smoothed_timecourse))) / 100.0, smoothed_timecourse)\n",
    "\n",
    "\n",
    "plt.fill_between((n_smooth_samples / 2 + 600 + np.arange(len(smoothed_timecourse))) / 100.0,\n",
    "                 smoothed_timecourse - smoothed_std / np.sqrt(len(pred_correct)),\n",
    "                 smoothed_timecourse + smoothed_std / np.sqrt(len(pred_correct)),\n",
    "            alpha=0.5)\n",
    "plt.xlabel('Time [sec]', fontsize=14)\n",
    "plt.ylabel('Accuracy [%]', fontsize=14)\n",
    "plt.title(\"2-second smoothing\", fontsize=16)"
   ]
  },
  {
   "cell_type": "code",
   "execution_count": null,
   "metadata": {},
   "outputs": [],
   "source": [
    "n_smooth_samples = 3000\n",
    "smoothed_timecourse = running_mean(correct_timecourse,n_smooth_samples,)\n",
    "smoothed_std = running_mean(correct_std_timecourse,n_smooth_samples,)\n",
    "plt.plot((n_smooth_samples / 2 + 600 + np.arange(len(smoothed_timecourse))) / 100.0, smoothed_timecourse)\n",
    "\n",
    "\n",
    "plt.fill_between((n_smooth_samples / 2 + 600 + np.arange(len(smoothed_timecourse))) / 100.0,\n",
    "                 smoothed_timecourse - smoothed_std / np.sqrt(len(pred_correct)),\n",
    "                 smoothed_timecourse + smoothed_std / np.sqrt(len(pred_correct)),\n",
    "            alpha=0.5)\n",
    "plt.xlabel('Time [sec]', fontsize=14)\n",
    "plt.ylabel('Accuracy [%]', fontsize=14)\n",
    "plt.title(\"5-second smoothing\", fontsize=16)"
   ]
  },
  {
   "cell_type": "code",
   "execution_count": null,
   "metadata": {},
   "outputs": [],
   "source": [
    "n_smooth_samples = 60000\n",
    "smoothed_timecourse = running_mean(correct_timecourse,n_smooth_samples,)\n",
    "smoothed_std = running_mean(correct_std_timecourse,n_smooth_samples,)\n",
    "plt.plot((n_smooth_samples / 2 + 600 + np.arange(len(smoothed_timecourse))) / 100.0, smoothed_timecourse)\n",
    "\n",
    "\n",
    "plt.fill_between((n_smooth_samples / 2 + 600 + np.arange(len(smoothed_timecourse))) / 100.0,\n",
    "                 smoothed_timecourse - smoothed_std / np.sqrt(len(pred_correct)),\n",
    "                 smoothed_timecourse + smoothed_std / np.sqrt(len(pred_correct)),\n",
    "            alpha=0.5)\n",
    "plt.xlabel('Time [sec]', fontsize=14)\n",
    "plt.ylabel('Accuracy [%]', fontsize=14)\n",
    "plt.title(\"5-second smoothing\", fontsize=16)"
   ]
  }
 ],
 "metadata": {
  "kernelspec": {
   "display_name": "Python 3",
   "language": "python",
   "name": "python3"
  },
  "language_info": {
   "codemirror_mode": {
    "name": "ipython",
    "version": 3
   },
   "file_extension": ".py",
   "mimetype": "text/x-python",
   "name": "python",
   "nbconvert_exporter": "python",
   "pygments_lexer": "ipython3",
   "version": "3.5.2"
  }
 },
 "nbformat": 4,
 "nbformat_minor": 2
}
