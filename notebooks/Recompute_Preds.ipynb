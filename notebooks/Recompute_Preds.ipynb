{
 "cells": [
  {
   "cell_type": "code",
   "execution_count": null,
   "metadata": {},
   "outputs": [],
   "source": [
    "import os\n",
    "import site\n",
    "os.sys.path.insert(0, '/home/schirrmr/braindecode/code/')\n",
    "os.sys.path.insert(0, '/home/schirrmr/braindecode/code/braindecode/')\n",
    "os.sys.path.insert(0, '/home/schirrmr/code/auto-diagnosis/')\n",
    "%cd /home/schirrmr/\n",
    "# switch to cpu\n",
    "os.environ['THEANO_FLAGS'] = 'floatX=float32,device=cpu,nvcc.fastmath=True'\n",
    "\n",
    "%load_ext autoreload\n",
    "%autoreload 2\n",
    "import numpy as np\n",
    "import matplotlib\n",
    "from matplotlib import pyplot as plt\n",
    "from matplotlib import cm\n",
    "%matplotlib inline\n",
    "%config InlineBackend.figure_format = 'png' \n",
    "matplotlib.rcParams['font.size'] = 7\n",
    "\n",
    "import matplotlib.lines as mlines\n",
    "import seaborn\n",
    "seaborn.set_style('darkgrid')\n",
    "matplotlib.rcParams['figure.figsize'] = (12.0, 3.0)\n",
    "import logging\n",
    "import importlib\n",
    "importlib.reload(logging) # see https://stackoverflow.com/a/21475297/1469195\n",
    "log = logging.getLogger()\n",
    "log.setLevel('DEBUG')\n",
    "import sys\n",
    "logging.basicConfig(format='%(asctime)s %(levelname)s : %(message)s',\n",
    "                     level=logging.DEBUG, stream=sys.stdout)\n",
    "from numpy.random import RandomState\n",
    "from braindecode.torch_ext.util import np_to_var\n",
    "from autodiag.perturbation import combine_covs, combine_vars"
   ]
  },
  {
   "cell_type": "code",
   "execution_count": null,
   "metadata": {
    "collapsed": true
   },
   "outputs": [],
   "source": [
    "import os.path\n",
    "n_recordings = None#20 # only if I want to limit it\n",
    "    \n",
    "folder = 'data/models/pytorch/auto-diag/6000-input/22/'\n"
   ]
  },
  {
   "cell_type": "code",
   "execution_count": null,
   "metadata": {},
   "outputs": [],
   "source": [
    "from hyperoptim.rerun import rerun_exp\n",
    "ex = rerun_exp(folder, update_params=dict(only_return_exp=True), \n",
    "          save_experiment=False)"
   ]
  },
  {
   "cell_type": "code",
   "execution_count": null,
   "metadata": {
    "collapsed": true
   },
   "outputs": [],
   "source": [
    "exp = ex.result\n"
   ]
  },
  {
   "cell_type": "code",
   "execution_count": null,
   "metadata": {},
   "outputs": [],
   "source": [
    "assert hasattr(exp, 'test_dataset')\n",
    "if n_recordings is not None:\n",
    "    exp.test_dataset.n_recordings = n_recordings\n",
    "test_X, test_y = exp.test_dataset.load()\n"
   ]
  },
  {
   "cell_type": "code",
   "execution_count": null,
   "metadata": {
    "collapsed": true
   },
   "outputs": [],
   "source": [
    "from braindecode.datautil.signal_target import SignalAndTarget\n",
    "test_set = SignalAndTarget(test_X, test_y)\n"
   ]
  },
  {
   "cell_type": "code",
   "execution_count": null,
   "metadata": {
    "collapsed": true
   },
   "outputs": [],
   "source": [
    "import torch as th\n",
    "exp.model.load_state_dict(th.load(os.path.join(folder, 'model_params.pkl')))\n",
    "exp.model.eval();"
   ]
  },
  {
   "cell_type": "code",
   "execution_count": null,
   "metadata": {},
   "outputs": [],
   "source": [
    "setname = 'test'\n",
    "log.info(\"Compute and save predictions for {:s}...\".format(\n",
    "                    setname))\n",
    "dataset = test_set\n",
    "label_filename = os.path.join(folder, '{:s}_trial_labels.npy'.format(setname))\n",
    "log.info(\"Save labels for {:s} to {:s}...\".format(\n",
    "    setname,label_filename))\n",
    "np.save(label_filename, dataset.y)"
   ]
  },
  {
   "cell_type": "code",
   "execution_count": null,
   "metadata": {
    "collapsed": true
   },
   "outputs": [],
   "source": [
    "import numpy as np\n",
    "import torch as th\n",
    "from torch import nn\n",
    "\n",
    "from hyperoptim.rerun import rerun_exp\n",
    "from braindecode.torch_ext.util import var_to_np, np_to_var\n",
    "from braindecode.datautil.signal_target import SignalAndTarget"
   ]
  },
  {
   "cell_type": "code",
   "execution_count": null,
   "metadata": {
    "collapsed": true
   },
   "outputs": [],
   "source": [
    "from braindecode.torch_ext.util import var_to_np\n",
    "from autodiag.monitors import compute_preds_per_trial\n",
    "preds_per_batch = [var_to_np(exp.model(np_to_var(b[0]).cuda()))\n",
    "          for b in exp.iterator.get_batches(dataset, shuffle=False)]\n",
    "preds_per_trial = compute_preds_per_trial(\n",
    "    preds_per_batch, dataset,\n",
    "    input_time_length=exp.iterator.input_time_length,\n",
    "    n_stride=exp.iterator.n_preds_per_input)\n",
    "mean_preds_per_trial = [np.mean(preds, axis=(0, 2)) for preds in\n",
    "                            preds_per_trial]\n",
    "mean_preds_per_trial = np.array(mean_preds_per_trial)"
   ]
  },
  {
   "cell_type": "code",
   "execution_count": null,
   "metadata": {},
   "outputs": [],
   "source": [
    "trial_pred_filename = os.path.join(folder, '{:s}_trial_preds.npy'.format(setname))\n",
    "log.info(\"Save trial preds for {:s} to {:s}...\".format(\n",
    "    setname,trial_pred_filename))\n",
    "np.save(trial_pred_filename, mean_preds_per_trial)"
   ]
  },
  {
   "cell_type": "code",
   "execution_count": null,
   "metadata": {},
   "outputs": [],
   "source": [
    "crop_pred_filename = os.path.join(folder, '{:s}_crop_preds.npy'.format(setname))\n",
    "log.info(\"Save crop preds for {:s} to {:s}...\".format(\n",
    "    setname,crop_pred_filename))\n",
    "np.save(crop_pred_filename, preds_per_trial)"
   ]
  }
 ],
 "metadata": {
  "kernelspec": {
   "display_name": "Python 3",
   "language": "python",
   "name": "python3"
  },
  "language_info": {
   "codemirror_mode": {
    "name": "ipython",
    "version": 3
   },
   "file_extension": ".py",
   "mimetype": "text/x-python",
   "name": "python",
   "nbconvert_exporter": "python",
   "pygments_lexer": "ipython3",
   "version": "3.5.2"
  }
 },
 "nbformat": 4,
 "nbformat_minor": 2
}
