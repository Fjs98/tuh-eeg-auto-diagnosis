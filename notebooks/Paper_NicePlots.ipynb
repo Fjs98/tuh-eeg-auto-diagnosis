{
 "cells": [
  {
   "cell_type": "code",
   "execution_count": null,
   "metadata": {
    "collapsed": false,
    "deletable": true,
    "editable": true
   },
   "outputs": [],
   "source": [
    "\n",
    "import os\n",
    "assert 'THEANO_FLAGS' in os.environ\n",
    "# switch to cpu\n",
    "#os.environ['THEANO_FLAGS'] = 'floatX=float32,device=cpu,nvcc.fastmath=True'\n",
    "\n",
    "import numpy as np\n",
    "import datetime as dt\n",
    "import scipy\n",
    "import joblib\n",
    "import matplotlib.pyplot as plt\n",
    "import matplotlib as mpl\n",
    "import convvisual.analysis.analysis as anal\n",
    "import convvisual.analysis.plot_new as plot\n",
    "import convvisual.receptive_field.receptive_field as rf\n",
    "import convvisual.analysis.utils as ut\n",
    "import convvisual.analysis.data_preparation as dp\n",
    "import convvisual.receptive_field as crf\n",
    "import scipy\n",
    "\n",
    "from braindecode.veganlasagne.layers import create_pred_fn\n",
    "\n",
    "import lasagne\n",
    "\n",
    "%load_ext autoreload\n",
    "%autoreload 2\n",
    "\n",
    "import seaborn as sns\n",
    "sns.set_context(\"paper\")\n",
    "#sns.set(font_scale=1.08)"
   ]
  },
  {
   "cell_type": "code",
   "execution_count": null,
   "metadata": {
    "collapsed": true,
    "deletable": true,
    "editable": true
   },
   "outputs": [],
   "source": []
  },
  {
   "cell_type": "code",
   "execution_count": null,
   "metadata": {
    "collapsed": false,
    "deletable": true,
    "editable": true
   },
   "outputs": [],
   "source": [
    "subject=22\n",
    "modelpath = '/home/hartmank/braindecode/data/models/'\n",
    "modelname = 'paper/ours/cnt/deep4/car/%d'%subject\n",
    "savepath  = '/home/hartmank/data/convvisual/RF_data_paper/'\n",
    "folder = 'FilterAnalysis_nUnits100'\n",
    "datapath = os.path.join(savepath,modelname,folder)\n",
    "figurepath = os.path.join(savepath,'figures','%d'%subject,folder)"
   ]
  },
  {
   "cell_type": "code",
   "execution_count": null,
   "metadata": {
    "collapsed": true,
    "deletable": true,
    "editable": true
   },
   "outputs": [],
   "source": [
    "misc = dp.load_misc_data(datapath)"
   ]
  },
  {
   "cell_type": "code",
   "execution_count": null,
   "metadata": {
    "collapsed": false,
    "deletable": true,
    "editable": true
   },
   "outputs": [],
   "source": [
    "sensor_names = misc['sensor_names']\n",
    "model = misc['model']\n",
    "model = lasagne.layers.get_all_layers(model)"
   ]
  },
  {
   "cell_type": "code",
   "execution_count": null,
   "metadata": {
    "collapsed": false,
    "deletable": true,
    "editable": true
   },
   "outputs": [],
   "source": [
    "layer_ind = 4\n",
    "filter_inds = [2,6,17,22]\n",
    "\n",
    "f,axes = plt.subplots(ncols=4,nrows=1,sharey=True,figsize=(3.5,2))\n",
    "axes = np.array(axes).flatten()\n",
    "label_data = dp.load_labels_data(datapath,layer_ind)\n",
    "F_baseline = dp.load_baseline_feature_data(datapath,layer_ind)\n",
    "feature_entries_f = ut.create_flattened_featurearr(F_baseline['feature_labels'])\n",
    "for i,filter_ind in enumerate(filter_inds):\n",
    "    X_RF = dp.load_RF_data(datapath,layer_ind,None,filter_ind)['X_RF_cropped']\n",
    "    KS = dp.load_KS_score_data(datapath,layer_ind,None,filter_ind)\n",
    "    KS_f = ut.create_flattened_featurearr([KS['FFT']['KS_kuiper'],\n",
    "                                          KS['FFTc']['KS_kuiper'],\n",
    "                                          KS['Phase']['KS_kuiper'],\n",
    "                                          KS['Phasec']['KS_kuiper'],\n",
    "                                          KS['Mean']['KS_kuiper'],\n",
    "                                          KS['Meanc']['KS_kuiper'],])\n",
    "    KS_max_ind = np.argmax(KS_f)\n",
    "    sensor_ind = feature_entries_f[KS_max_ind][1][0]\n",
    "    X_median = np.median(X_RF[:,sensor_ind],axis=0)\n",
    "    p25 = np.percentile(X_RF[:,sensor_ind],25,axis=0)\n",
    "    p75 = np.percentile(X_RF[:,sensor_ind],75,axis=0)\n",
    "    \n",
    "    plt.sca(axes[i])\n",
    "    sns.tsplot(X_RF[:,sensor_ind,:],err_style='unit_points',color=['#6CA6CD'])\n",
    "    plt.plot(X_median,color='#2a2a2a',zorder=101)\n",
    "    plt.fill_between(np.arange(len(p25)), p25, p75,color='#2a2a2a',zorder=100,alpha=0.3)\n",
    "    plt.ylim(-40,40)\n",
    "    plt.title('Filter %d'%filter_ind)\n",
    "    plt.xticks([0,4.5,9],(np.array([0,4.5,9])/250.*1000).astype(int))\n",
    "    if i%5==0:\n",
    "        plt.ylabel('Amplitude [${\\mu}V$]')\n",
    "    plt.xlabel('Time [$ms$]')\n",
    "plt.tight_layout()\n",
    "plt.subplots_adjust(wspace=0.2)\n",
    "plt.savefig('results_l2.png',bbox_inches='tight',pad_inches=0)\n",
    "plt.show()\n",
    "    "
   ]
  },
  {
   "cell_type": "code",
   "execution_count": null,
   "metadata": {
    "collapsed": false,
    "deletable": true,
    "editable": true
   },
   "outputs": [],
   "source": [
    "layer_ind = 4\n",
    "filter_inds = np.arange(25)\n",
    "\n",
    "f,axes = plt.subplots(ncols=5,nrows=5,sharey=True,sharex=True,figsize=(4.5,8))\n",
    "axes = np.array(axes).flatten()\n",
    "label_data = dp.load_labels_data(datapath,layer_ind)\n",
    "F_baseline = dp.load_baseline_feature_data(datapath,layer_ind)\n",
    "feature_entries_f = ut.create_flattened_featurearr(F_baseline['feature_labels'])\n",
    "for i,filter_ind in enumerate(filter_inds):\n",
    "    X_RF = dp.load_RF_data(datapath,layer_ind,None,filter_ind)['X_RF_cropped']\n",
    "    KS = dp.load_KS_score_data(datapath,layer_ind,None,filter_ind)\n",
    "    KS_f = ut.create_flattened_featurearr([KS['FFT']['KS_kuiper'],\n",
    "                                          KS['FFTc']['KS_kuiper'],\n",
    "                                          KS['Phase']['KS_kuiper'],\n",
    "                                          KS['Phasec']['KS_kuiper'],\n",
    "                                          KS['Mean']['KS_kuiper'],\n",
    "                                          KS['Meanc']['KS_kuiper'],])\n",
    "    KS_max_ind = np.argmax(KS_f)\n",
    "    sensor_ind = feature_entries_f[KS_max_ind][1][0]\n",
    "    X_median = np.median(X_RF[:,sensor_ind],axis=0)\n",
    "    p25 = np.percentile(X_RF[:,sensor_ind],25,axis=0)\n",
    "    p75 = np.percentile(X_RF[:,sensor_ind],75,axis=0)\n",
    "    \n",
    "    plt.sca(axes[i])\n",
    "    sns.tsplot(X_RF[:,sensor_ind,:],err_style='unit_points',color=['#6CA6CD'])\n",
    "    plt.plot(X_median,color='#2a2a2a',zorder=101)\n",
    "    plt.fill_between(np.arange(len(p25)), p25, p75,color='#2a2a2a',zorder=100,alpha=0.3)\n",
    "    plt.ylim(-40,40)\n",
    "    plt.title('Filter %d'%filter_ind)\n",
    "    plt.xticks([0,4.5,9],(np.array([0,4.5,9])/250.*1000).astype(int))\n",
    "    if i%5==0:\n",
    "        plt.ylabel('Amplitude [${\\mu}V$]')\n",
    "    if i>=20:\n",
    "        plt.xlabel('Time [$ms$]')\n",
    "plt.tight_layout()\n",
    "plt.subplots_adjust(wspace=0.2,hspace=0.2)\n",
    "plt.savefig('appendix_l2.png',bbox_inches='tight',pad_inches=0)\n",
    "plt.show()\n",
    "    "
   ]
  },
  {
   "cell_type": "code",
   "execution_count": null,
   "metadata": {
    "collapsed": false,
    "deletable": true,
    "editable": true
   },
   "outputs": [],
   "source": [
    "layer_ind = 22\n",
    "filter_ind = 95\n",
    "channels = ['C3','CPP3h']\n",
    "sensor_inds = np.where(np.in1d(sensor_names,channels))[0]\n",
    "\n",
    "X_RF = dp.load_RF_data(datapath,layer_ind,None,filter_ind)['X_RF_cropped']\n",
    "\n",
    "f,axes = plt.subplots(ncols=2,nrows=1,sharey=True,sharex=True,figsize=(7,2.5))\n",
    "axes = np.array(axes).flatten()\n",
    "for i,sensor_ind in enumerate(sensor_inds):\n",
    "    X_median = np.median(X_RF[:,sensor_ind],axis=0)\n",
    "    p25 = np.percentile(X_RF[:,sensor_ind],25,axis=0)\n",
    "    p75 = np.percentile(X_RF[:,sensor_ind],75,axis=0)\n",
    "\n",
    "    plt.sca(axes[i])\n",
    "    sns.tsplot(X_RF[:,sensor_ind,:],err_style='unit_points',color=['#6CA6CD'])\n",
    "    plt.plot(X_median,color='#2a2a2a',zorder=101)\n",
    "    plt.fill_between(np.arange(len(p25)), p25, p75,color='#2a2a2a',zorder=100,alpha=0.3)\n",
    "    plt.ylim(-30,30)\n",
    "    plt.title('%s'%channels[i])\n",
    "    ticks = [0,50,100,150,200,250,300,350]\n",
    "    plt.xticks(ticks,(np.array(ticks)/250.*1000).astype(int))\n",
    "    if i%5==0:\n",
    "        plt.ylabel('Amplitude [${\\mu}V$]')\n",
    "    plt.xlabel('Time [$ms$]')\n",
    "plt.tight_layout()\n",
    "plt.savefig('results_l8f95.png',bbox_inches='tight',pad_inches=0)\n",
    "plt.show()"
   ]
  },
  {
   "cell_type": "code",
   "execution_count": null,
   "metadata": {
    "collapsed": false,
    "deletable": true,
    "editable": true
   },
   "outputs": [],
   "source": [
    "from braindecode.datasets.sensor_positions import tight_cap_positions\n",
    "from braindecode.analysis.plot_util import plot_head_signals_tight\n",
    "def plot_head_signals_tight_with_tube(signals, deviations,\n",
    "    sensor_names=None, figsize=(12, 7),\n",
    "        plot_args=None, hspace=0.35, sensor_map=tight_cap_positions,\n",
    "        tsplot=False, color=None):\n",
    "    if color is None:\n",
    "        color = sns.color_palette()[0]\n",
    "    fig = plot_head_signals_tight(signals, sensor_names, \n",
    "        figsize=figsize,plot_args=plot_args, hspace=hspace,\n",
    "        sensor_map=sensor_map, tsplot=tsplot)\n",
    "    for i, ax in enumerate(fig.axes):\n",
    "        ax.fill_between(range(signals.shape[1]),\n",
    "            deviations[0,i,:],  \n",
    "            deviations[1,i,:],  \n",
    "            alpha=0.3, color=color)\n",
    "    return fig"
   ]
  },
  {
   "cell_type": "code",
   "execution_count": null,
   "metadata": {
    "collapsed": false,
    "deletable": true,
    "editable": true
   },
   "outputs": [],
   "source": [
    "mpl.rcParams.update({'axes.titlesize' : 7})\n",
    "layer_ind = 16\n",
    "filter_ind = 11\n",
    "\n",
    "X_RF = dp.load_RF_data(datapath,layer_ind,None,filter_ind)['X_RF_cropped']\n",
    "medians = np.median(X_RF,axis=0)\n",
    "deviations = np.percentile(X_RF,[25,75],axis=0)\n",
    "\n",
    "plot_head_signals_tight_with_tube(medians,deviations,sensor_names=sensor_names,figsize=(7,8),hspace=0.7,color='#2a2a2a',plot_args={'linewidth':0.7,'color':'#2a2a2a'})\n",
    "plt.savefig('appendix_l6f11.pdf',bbox_inches='tight',pad_inches=0)\n",
    "plt.show()"
   ]
  },
  {
   "cell_type": "code",
   "execution_count": null,
   "metadata": {
    "collapsed": false,
    "deletable": true,
    "editable": true
   },
   "outputs": [],
   "source": [
    "mpl.rcParams.update({'axes.titlesize' : 7})\n",
    "layer_ind = 16\n",
    "filter_ind = 77\n",
    "\n",
    "X_RF = dp.load_RF_data(datapath,layer_ind,None,filter_ind)['X_RF_cropped']\n",
    "medians = np.median(X_RF,axis=0)\n",
    "deviations = np.percentile(X_RF,[25,75],axis=0)\n",
    "\n",
    "plot_head_signals_tight_with_tube(medians,deviations,sensor_names=sensor_names,figsize=(7,8),hspace=0.7,color='#2a2a2a',plot_args={'linewidth':0.7,'color':'#2a2a2a'})\n",
    "plt.savefig('appendix_l6f77.pdf',bbox_inches='tight',pad_inches=0)\n",
    "plt.show()"
   ]
  },
  {
   "cell_type": "code",
   "execution_count": null,
   "metadata": {
    "collapsed": false,
    "deletable": true,
    "editable": true
   },
   "outputs": [],
   "source": [
    "mpl.rcParams.update({'axes.titlesize' : 7})\n",
    "layer_ind = 16\n",
    "filter_ind = 11\n",
    "\n",
    "X_RF = dp.load_RF_data(datapath,layer_ind,None,filter_ind)['X_RF_cropped']\n",
    "medians = np.median(X_RF,axis=0)\n",
    "deviations = np.percentile(X_RF,[25,75],axis=0)\n",
    "\n",
    "plot_head_signals_tight_with_tube(medians[14:-27],deviations[:,14:-27],sensor_names=sensor_names[14:-27],figsize=(7,4),hspace=0.7,color='#2a2a2a',plot_args={'linewidth':0.7,'color':'#2a2a2a'})\n",
    "plt.savefig('results_l6f11.pdf',bbox_inches='tight',pad_inches=0)\n",
    "plt.show()"
   ]
  },
  {
   "cell_type": "code",
   "execution_count": null,
   "metadata": {
    "collapsed": false,
    "deletable": true,
    "editable": true
   },
   "outputs": [],
   "source": [
    "layer_ind = 16\n",
    "filter_inds = [11,77]\n",
    "\n",
    "F_baseline = dp.load_baseline_feature_data(datapath,layer_ind)\n",
    "F_F1 = dp.load_RF_feature_data(datapath,layer_ind,None,filter_inds[0])\n",
    "F_F2 = dp.load_RF_feature_data(datapath,layer_ind,None,filter_inds[1])\n",
    "\n",
    "KS1 = dp.load_KS_score_data(datapath,layer_ind,None,filter_inds[0])\n",
    "KS2 = dp.load_KS_score_data(datapath,layer_ind,None,filter_inds[1])"
   ]
  },
  {
   "cell_type": "code",
   "execution_count": null,
   "metadata": {
    "collapsed": false,
    "deletable": true,
    "editable": true
   },
   "outputs": [],
   "source": [
    "F_baseline_f = ut.create_flattened_featurearr([F_baseline['features'][2]],shape=(F_baseline['features'][2].shape[0],-1))+0.5*np.pi\n",
    "F_F1_f = ut.create_flattened_featurearr([F_F1['features'][2]],shape=(F_F1['features'][2].shape[0],-1))+0.5*np.pi\n",
    "F_F2_f = ut.create_flattened_featurearr([F_F2['features'][2]],shape=(F_F2['features'][2].shape[0],-1))+0.5*np.pi\n",
    "\n",
    "F_baseline_f[F_baseline_f>np.pi] -= 2*np.pi\n",
    "F_F1_f[F_F1_f>np.pi] -= 2*np.pi\n",
    "F_F2_f[F_F2_f>np.pi] -= 2*np.pi\n",
    "\n",
    "max_KS1 = np.argsort(KS1['Phase']['KS_kuiper'])[::-1]\n",
    "max_KS2 = np.argsort(KS2['Phase']['KS_kuiper'])[::-1]"
   ]
  },
  {
   "cell_type": "code",
   "execution_count": null,
   "metadata": {
    "collapsed": false,
    "deletable": true,
    "editable": true,
    "scrolled": true
   },
   "outputs": [],
   "source": [
    "plt.figure(figsize=(3.5,2))\n",
    "bins = np.linspace(-np.pi,np.pi,50)\n",
    "colors1 = sns.color_palette('Greys',10)\n",
    "colors2 = sns.color_palette('Blues_d',4)\n",
    "colors3 = sns.color_palette('winter_d',4)\n",
    "\n",
    "sns.distplot(F_baseline_f[:,max_KS1[0]],color=colors1[0],bins=bins,label='L6 Baseline C3')\n",
    "sns.distplot(F_baseline_f[:,max_KS1[1]],color=colors1[1],bins=bins,label='L6 Baseline CCP3h')\n",
    "sns.distplot(F_baseline_f[:,max_KS1[2]],color=colors1[2],bins=bins,label='L6 Baseline CP3')\n",
    "\n",
    "sns.distplot(F_F1_f[:,max_KS1[0]],color=colors2[0],bins=bins,label='L6 Filter %d C3'%filter_inds[0])\n",
    "sns.distplot(F_F1_f[:,max_KS1[1]],color=colors2[1],bins=bins,label='L6 Filter %d CCP3h'%filter_inds[0])\n",
    "sns.distplot(F_F1_f[:,max_KS1[2]],color=colors2[2],bins=bins,label='L6 Filter %d CP3'%filter_inds[0])\n",
    "\n",
    "sns.distplot(F_F2_f[:,max_KS1[0]],color=colors3[0],bins=bins,label='L6 Filter %d C3'%filter_inds[1])\n",
    "sns.distplot(F_F2_f[:,max_KS1[1]],color=colors3[1],bins=bins,label='L6 Filter %d CCP3h'%filter_inds[1])\n",
    "sns.distplot(F_F2_f[:,max_KS1[2]],color=colors3[2],bins=bins,label='L6 Filter %d CP3'%filter_inds[1])\n",
    "\n",
    "plt.xlim(-np.pi,np.pi)\n",
    "plt.xticks([-np.pi,-0.5*np.pi,0,0.5*np.pi,np.pi],['$-\\pi$','$-1/2\\pi$','0','$1/2\\pi$','$\\pi$'])\n",
    "ticks = np.array([0,0.05,0.1,0.15,0.2,0.25,0.3])\n",
    "plt.yticks(ticks/(bins[-1]-bins[-2]),ticks)\n",
    "plt.ylim(0,0.3/(bins[-1]-bins[-2]))\n",
    "plt.ylabel('Frequency')\n",
    "plt.xlabel('Phase [$rad$]')\n",
    "\n",
    "h,l = plt.gca().get_legend_handles_labels()\n",
    "legend1 = plt.legend(h[:3], l[:3],bbox_to_anchor=[0.78, -0.27])\n",
    "plt.legend(h[3:], l[3:],bbox_to_anchor=[1.03, -0.6],ncol=2)\n",
    "plt.gca().add_artist(legend1)\n",
    "plt.savefig('results_l6dist.pdf',bbox_inches='tight',pad_inches=0)\n",
    "plt.show()"
   ]
  },
  {
   "cell_type": "code",
   "execution_count": null,
   "metadata": {
    "collapsed": false,
    "deletable": true,
    "editable": true
   },
   "outputs": [],
   "source": [
    "layer_ind = 22\n",
    "filter_inds = [8]\n",
    "\n",
    "F_baseline = dp.load_baseline_feature_data(datapath,layer_ind)\n",
    "F_F1 = dp.load_RF_feature_data(datapath,layer_ind,None,filter_inds[0])\n",
    "\n",
    "KS1 = dp.load_KS_score_data(datapath,layer_ind,None,filter_inds[0])"
   ]
  },
  {
   "cell_type": "code",
   "execution_count": null,
   "metadata": {
    "collapsed": false,
    "deletable": true,
    "editable": true
   },
   "outputs": [],
   "source": [
    "F_baseline_f = ut.create_flattened_featurearr([F_baseline['features'][0]],shape=(F_baseline['features'][0].shape[0],-1))\n",
    "F_F1_f = ut.create_flattened_featurearr([F_F1['features'][0]],shape=(F_F1['features'][0].shape[0],-1))\n",
    "\n",
    "max_KS1 = np.argsort(KS1['FFT']['KS_kuiper'])[::-1]"
   ]
  },
  {
   "cell_type": "code",
   "execution_count": null,
   "metadata": {
    "collapsed": false,
    "deletable": true,
    "editable": true
   },
   "outputs": [],
   "source": [
    "plt.figure(figsize=(3.5,2))\n",
    "bins = np.linspace(20,70,50)\n",
    "colors1 = sns.color_palette('Greys',10)\n",
    "colors2 = sns.color_palette('Blues_d',4)\n",
    "colors3 = sns.color_palette('winter_d',4)\n",
    "\n",
    "sns.distplot(F_baseline_f[:,max_KS1[3]],color=colors1[0],bins=bins,label='L8 Baseline C3')\n",
    "sns.distplot(F_baseline_f[:,max_KS1[0]],color=colors1[1],bins=bins,label='L8 Baseline CCP3h')\n",
    "sns.distplot(F_baseline_f[:,max_KS1[2]],color=colors1[2],bins=bins,label='L8 Baseline CP3')\n",
    "\n",
    "sns.distplot(F_F1_f[:,max_KS1[3]],color=colors2[0],bins=bins,label='L8 Filter %d C3'%filter_inds[0])\n",
    "sns.distplot(F_F1_f[:,max_KS1[0]],color=colors2[1],bins=bins,label='L8 Filter %d CCP3h'%filter_inds[0])\n",
    "sns.distplot(F_F1_f[:,max_KS1[2]],color=colors2[2],bins=bins,label='L8 Filter %d CP3'%filter_inds[0])\n",
    "\n",
    "plt.xlim(25,70)\n",
    "#plt.xticks([-np.pi,-0.5*np.pi,0,0.5*np.pi,np.pi],['$-\\pi$','$-1/2\\pi$','0','$1/2\\pi$','$\\pi$'])\n",
    "ticks = np.array([0,0.03,0.06,0.09,0.12,0.15])\n",
    "plt.yticks(ticks/(bins[-1]-bins[-2]),ticks)\n",
    "plt.ylabel('Frequency')\n",
    "plt.xlabel('Power [$dB$]')\n",
    "\n",
    "plt.legend(bbox_to_anchor=[1, -0.25],ncol=2)\n",
    "plt.savefig('results_l8dist.pdf',bbox_inches='tight',pad_inches=0)\n",
    "plt.show()"
   ]
  },
  {
   "cell_type": "code",
   "execution_count": null,
   "metadata": {
    "collapsed": true,
    "deletable": true,
    "editable": true
   },
   "outputs": [],
   "source": [
    "l1 = 16\n",
    "l2 = 22\n",
    "\n",
    "f1 = [11,77] # 63\n",
    "f2 = [8]\n",
    "\n",
    "X_RF1 = dp.load_RF_data(datapath,l1,None,f1[0])['X_RF_cropped']\n",
    "X_RF2 = dp.load_RF_data(datapath,l1,None,f1[1])['X_RF_cropped']"
   ]
  },
  {
   "cell_type": "code",
   "execution_count": null,
   "metadata": {
    "collapsed": false,
    "deletable": true,
    "editable": true
   },
   "outputs": [],
   "source": [
    "a = anal.fit_sinusoid(signal=np.median(X_RF1[:,[55,65,73],:].mean(axis=1),axis=0),sampling_rate=250.)\n",
    "b = anal.fit_sinusoid(signal=np.median(X_RF2[:,[55,65,73],:].mean(axis=1),axis=0),sampling_rate=250.)"
   ]
  },
  {
   "cell_type": "code",
   "execution_count": null,
   "metadata": {
    "collapsed": false,
    "deletable": true,
    "editable": true
   },
   "outputs": [],
   "source": [
    "phases = np.linspace(-np.pi,np.pi,20)\n",
    "amplitudes = np.linspace(0,10,20)\n",
    "inputs = np.zeros((60,128,1000,1),dtype=np.float32)\n",
    "freq = 11.9\n",
    "t = 2*np.pi*np.arange(1000)/250.\n",
    "\n",
    "for i,p in enumerate(phases):\n",
    "    inputs[i,[55,65,73],:,0] = amplitudes[19]*np.sin(freq*t+p)\n",
    "for i,a in enumerate(amplitudes):\n",
    "    inputs[20+i,[55,65,73],:,0] = a*np.sin(freq*t+phases[10])\n",
    "for i,a in enumerate(amplitudes):\n",
    "    inputs[40+i,[55,65,73],:,0] = a*np.sin(freq*t+phases[0])"
   ]
  },
  {
   "cell_type": "code",
   "execution_count": null,
   "metadata": {
    "collapsed": false,
    "deletable": true,
    "editable": true
   },
   "outputs": [],
   "source": [
    "outf1 = create_pred_fn(crf.convvisual.check_if_finalreshape_is_needed(model,l1)[0][-1])\n",
    "outf2 = create_pred_fn(crf.convvisual.check_if_finalreshape_is_needed(model,l2)[0][-1])\n",
    "\n",
    "out1 = outf1(inputs)\n",
    "out2 = outf2(inputs)"
   ]
  },
  {
   "cell_type": "code",
   "execution_count": null,
   "metadata": {
    "collapsed": false,
    "deletable": true,
    "editable": true
   },
   "outputs": [],
   "source": [
    "out1_r = np.reshape(out1,(60,out1.shape[1],out1.shape[2]))\n",
    "out2_r = np.reshape(out2,(60,out2.shape[1],out2.shape[2]))"
   ]
  },
  {
   "cell_type": "code",
   "execution_count": null,
   "metadata": {
    "collapsed": false,
    "deletable": true,
    "editable": true
   },
   "outputs": [],
   "source": [
    "plt.figure(figsize=(3.5,1.5))\n",
    "colors1 = sns.color_palette('Purples_d',2,desat=1)\n",
    "colors2 = sns.color_palette('bone_r',4)\n",
    "plt.plot(phases,out1_r[:20,f1[0],0],label='L6 Filt %d'%f1[0],color=colors1[0],linewidth=2)\n",
    "plt.plot(phases,out1_r[:20,f1[1],0],label='L6 Filt %d'%f1[1],color=colors2[1],linewidth=2)\n",
    "#plt.plot(phases,out1_r[0,f1[1],0],label='L6 Filt %d'%f1[1])\n",
    "#plt.plot(phases,out1_r[:,-1,f1[1],0],label='L6 Filt %d'%f1[1])\n",
    "plt.xlim(-np.pi,np.pi)\n",
    "plt.xticks([-np.pi,-0.5*np.pi,0,0.5*np.pi,np.pi],['$-\\pi$','$-1/2\\pi$','0','$1/2\\pi$','$\\pi$'])\n",
    "plt.legend()\n",
    "plt.ylim(-10,10)\n",
    "plt.ylabel('Filter activation')\n",
    "plt.xlabel('Phase [$rad$]')\n",
    "plt.legend(bbox_to_anchor=[0.85, -0.35],ncol=2)\n",
    "plt.savefig('results_l6phase.pdf',bbox_inches='tight',pad_inches=0)\n",
    "plt.show()\n",
    "\n",
    "plt.figure(figsize=(3.5,1.5))\n",
    "plt.plot(amplitudes,out1_r[20:40,f1[0],0],label='L6 Filt %d Pref. Phase'%f1[0],color=colors1[0],linewidth=2)\n",
    "plt.plot(amplitudes,out1_r[40:60,f1[1],0],label='L6 Filt %d Pref. Phase'%f1[1],color=colors2[1],linewidth=2)\n",
    "plt.plot(amplitudes,out1_r[40:60,f1[0],0],label='L6 Filt %d Count. Phase'%f1[0],color=colors1[1],linewidth=2)\n",
    "plt.plot(amplitudes,out1_r[20:40,f1[1],0],label='L6 Filt %d Count. Phase'%f1[1],color=colors2[0],linewidth=2)\n",
    "#plt.plot(phases,out1_r[0,f1[1],0],label='L6 Filt %d'%f1[1])\n",
    "#plt.plot(phases,out1_r[:,-1,f1[1],0],label='L6 Filt %d'%f1[1])\n",
    "plt.legend()\n",
    "plt.ylim(-10,10)\n",
    "plt.xlim(amplitudes[0],amplitudes[-1])\n",
    "plt.ylabel('Filter activation')\n",
    "plt.xlabel('Amplitude [${\\mu}V$]')\n",
    "plt.legend(bbox_to_anchor=[1.05, -0.35],ncol=2)\n",
    "plt.savefig('results_l6amp.pdf',bbox_inches='tight',pad_inches=0)\n",
    "plt.show()\n"
   ]
  },
  {
   "cell_type": "code",
   "execution_count": null,
   "metadata": {
    "collapsed": false,
    "deletable": true,
    "editable": true
   },
   "outputs": [],
   "source": [
    "plt.figure(figsize=(3.5,1.5))\n",
    "plt.plot(phases,out2_r[:20,f2[0],0],label='L8 Filt %d'%f2[0],color=colors1[0],linewidth=2)\n",
    "#plt.plot(phases,out1_r[0,f1[1],0],label='L6 Filt %d'%f1[1])\n",
    "#plt.plot(phases,out1_r[:,-1,f1[1],0],label='L6 Filt %d'%f1[1])\n",
    "plt.xlim(-np.pi,np.pi)\n",
    "plt.xticks([-np.pi,-0.5*np.pi,0,0.5*np.pi,np.pi],['$-\\pi$','$-1/2\\pi$','0','$1/2\\pi$','$\\pi$'])\n",
    "plt.legend()\n",
    "plt.ylim(-10,10)\n",
    "plt.ylabel('Filter activation')\n",
    "plt.xlabel('Phase [$rad$]')\n",
    "plt.legend(bbox_to_anchor=[0.67, -0.35],ncol=2)\n",
    "plt.savefig('results_l8phase.pdf',bbox_inches='tight',pad_inches=0)\n",
    "plt.show()\n",
    "\n",
    "plt.figure(figsize=(3.5,1.5))\n",
    "plt.plot(amplitudes,out2_r[20:40,f2[0],0],label='L8 P Filter %d $0$ Phase'%f2[0],color=colors1[0],linewidth=2.5)\n",
    "plt.plot(amplitudes,out2_r[40:60,f2[0],0],label='L8 P Filt %d $\\pi$ Phase'%f2[0],color=colors2[1],linewidth=2)\n",
    "#plt.plot(phases,out1_r[0,f1[1],0],label='L6 Filt %d'%f1[1])\n",
    "#plt.plot(phases,out1_r[:,-1,f1[1],0],label='L6 Filt %d'%f1[1])\n",
    "plt.legend()\n",
    "plt.ylim(-10,10)\n",
    "plt.xlim(amplitudes[0],amplitudes[-1])\n",
    "plt.ylabel('Filter activation')\n",
    "plt.xlabel('Amplitude [${\\mu}V$]')\n",
    "plt.legend(bbox_to_anchor=[0.78, -0.35],ncol=1)\n",
    "plt.savefig('results_l8amp.pdf',bbox_inches='tight',pad_inches=0)\n",
    "plt.show()"
   ]
  },
  {
   "cell_type": "code",
   "execution_count": null,
   "metadata": {
    "collapsed": false,
    "deletable": true,
    "editable": true
   },
   "outputs": [],
   "source": [
    "plt.plot(np.median(X_RF2[:,[55,65,73],:100],axis=0).T)\n",
    "plt.plot(np.sin(freq*t[:100]+1*np.pi),label='sin')\n",
    "plt.plot(np.cos(freq*t[:100]+0.5*np.pi),label='cos')\n",
    "plt.legend()\n",
    "plt.show()"
   ]
  },
  {
   "cell_type": "code",
   "execution_count": null,
   "metadata": {
    "collapsed": false,
    "deletable": true,
    "editable": true
   },
   "outputs": [],
   "source": [
    "sensor_names[[55,65,73]]"
   ]
  },
  {
   "cell_type": "code",
   "execution_count": null,
   "metadata": {
    "collapsed": false,
    "deletable": true,
    "editable": true
   },
   "outputs": [],
   "source": [
    "np.angle(np.complex(0,1))"
   ]
  },
  {
   "cell_type": "code",
   "execution_count": null,
   "metadata": {
    "collapsed": false,
    "deletable": true,
    "editable": true
   },
   "outputs": [],
   "source": [
    "-0.7*np.pi"
   ]
  },
  {
   "cell_type": "code",
   "execution_count": null,
   "metadata": {
    "collapsed": false,
    "deletable": true,
    "editable": true
   },
   "outputs": [],
   "source": [
    "signal1 = np.cos(10*t)\n",
    "signal2 = np.sin(10*t+0.5*np.pi)"
   ]
  },
  {
   "cell_type": "code",
   "execution_count": null,
   "metadata": {
    "collapsed": true,
    "deletable": true,
    "editable": true
   },
   "outputs": [],
   "source": [
    "fft1 = scipy.fftpack.fft(signal1)\n",
    "fft2 = scipy.fftpack.fft(signal2)"
   ]
  },
  {
   "cell_type": "code",
   "execution_count": null,
   "metadata": {
    "collapsed": true,
    "deletable": true,
    "editable": true
   },
   "outputs": [],
   "source": [
    "freq1 = np.fft.fftfreq(len(signal1), d=1./250)\n",
    "freq2 = np.fft.fftfreq(len(signal2), d=1./250)"
   ]
  },
  {
   "cell_type": "code",
   "execution_count": null,
   "metadata": {
    "collapsed": false,
    "deletable": true,
    "editable": true
   },
   "outputs": [],
   "source": [
    "print np.angle(fft1[40]),np.angle(fft2[40])"
   ]
  },
  {
   "cell_type": "code",
   "execution_count": null,
   "metadata": {
    "collapsed": false,
    "deletable": true,
    "editable": true
   },
   "outputs": [],
   "source": [
    "plt.plot(signal1)\n",
    "plt.plot(signal2)\n",
    "plt.show()"
   ]
  },
  {
   "cell_type": "code",
   "execution_count": null,
   "metadata": {
    "collapsed": false,
    "deletable": true,
    "editable": true
   },
   "outputs": [],
   "source": [
    "0.5*np.pi"
   ]
  },
  {
   "cell_type": "code",
   "execution_count": null,
   "metadata": {
    "collapsed": false,
    "deletable": true,
    "editable": true
   },
   "outputs": [],
   "source": [
    "phases[[2,12]]"
   ]
  },
  {
   "cell_type": "code",
   "execution_count": null,
   "metadata": {
    "collapsed": false,
    "deletable": true,
    "editable": true
   },
   "outputs": [],
   "source": [
    "1/4.*np.pi"
   ]
  },
  {
   "cell_type": "code",
   "execution_count": null,
   "metadata": {
    "collapsed": false,
    "deletable": true,
    "editable": true
   },
   "outputs": [],
   "source": [
    "-np.pi+1/4.*np.pi"
   ]
  },
  {
   "cell_type": "code",
   "execution_count": null,
   "metadata": {
    "collapsed": false,
    "deletable": true,
    "editable": true
   },
   "outputs": [],
   "source": [
    "amplitudes[19]"
   ]
  },
  {
   "cell_type": "code",
   "execution_count": null,
   "metadata": {
    "collapsed": false,
    "deletable": true,
    "editable": true
   },
   "outputs": [],
   "source": [
    "1.7543204+0.5*np.pi"
   ]
  },
  {
   "cell_type": "code",
   "execution_count": null,
   "metadata": {
    "collapsed": true,
    "deletable": true,
    "editable": true
   },
   "outputs": [],
   "source": []
  }
 ],
 "metadata": {
  "kernelspec": {
   "display_name": "Python 2",
   "language": "python",
   "name": "python2"
  },
  "language_info": {
   "codemirror_mode": {
    "name": "ipython",
    "version": 2
   },
   "file_extension": ".py",
   "mimetype": "text/x-python",
   "name": "python",
   "nbconvert_exporter": "python",
   "pygments_lexer": "ipython2",
   "version": "2.7.12"
  }
 },
 "nbformat": 4,
 "nbformat_minor": 1
}
