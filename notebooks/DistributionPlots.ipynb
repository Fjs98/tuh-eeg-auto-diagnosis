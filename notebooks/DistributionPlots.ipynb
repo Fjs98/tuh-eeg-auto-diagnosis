{
 "cells": [
  {
   "cell_type": "code",
   "execution_count": null,
   "metadata": {
    "collapsed": false
   },
   "outputs": [],
   "source": [
    "import numpy as np\n",
    "\n",
    "import matplotlib\n",
    "from matplotlib import pyplot as plt\n",
    "from matplotlib import cm\n",
    "%matplotlib inline\n",
    "%config InlineBackend.figure_format = 'png' \n",
    "\n",
    "import seaborn\n",
    "matplotlib.rcParams['figure.figsize'] = (12.0, 3.0)\n",
    "matplotlib.rcParams['font.size'] = 7\n",
    "seaborn.set_style('darkgrid')"
   ]
  },
  {
   "cell_type": "markdown",
   "metadata": {},
   "source": [
    "### First create some fake data \n",
    "This should of course be the real data in your case"
   ]
  },
  {
   "cell_type": "code",
   "execution_count": null,
   "metadata": {
    "collapsed": true
   },
   "outputs": [],
   "source": [
    "from numpy.random import RandomState\n",
    "data_rng = RandomState(394839)\n",
    "beta_excess = 1 + data_rng.randn(300)\n",
    "beta_normal = 0 + data_rng.randn(300)"
   ]
  },
  {
   "cell_type": "markdown",
   "metadata": {},
   "source": [
    "### Now make scattplerot"
   ]
  },
  {
   "cell_type": "code",
   "execution_count": null,
   "metadata": {
    "collapsed": false
   },
   "outputs": [],
   "source": [
    "# now plot dots for each class on top of each other\n",
    "# with some \"jitter\"\n",
    "plot_rng = RandomState(349834)\n",
    "plt.scatter(plot_rng.randn(len(beta_excess)) * 0.1, beta_excess, alpha=0.7)\n",
    "plt.scatter(1 + plot_rng.randn(len(beta_normal)) * 0.1, beta_normal, alpha=0.7)\n",
    "plt.xlim(-1,2)\n",
    "\n",
    "# evtl. noch means dazuplotten\n",
    "plt.plot(0.45, np.mean(beta_excess), marker='s', markersize=13)\n",
    "# mit errorbars\n",
    "yerr_down = np.mean(beta_excess) - np.percentile(beta_excess, 25)\n",
    "yerr_up = np.percentile(beta_excess, 75) - np.mean(beta_excess)\n",
    "plt.errorbar(0.45, np.mean(beta_excess), [[yerr_down], [yerr_up]], color=seaborn.color_palette()[0])\n",
    "\n",
    "\n",
    "plt.plot(1.45, np.mean(beta_normal), marker='s', markersize=13)\n",
    "# mit errorbars\n",
    "yerr_down = np.mean(beta_normal) - np.percentile(beta_normal, 25)\n",
    "yerr_up = np.percentile(beta_normal, 75) - np.mean(beta_normal)\n",
    "plt.errorbar(1.45, np.mean(beta_normal), [[yerr_down], [yerr_up]], color=seaborn.color_palette()[1])\n",
    "\n",
    "plt.xticks([0,1], ['beta_excess', 'beta_normal']);"
   ]
  },
  {
   "cell_type": "markdown",
   "metadata": {},
   "source": [
    "## Alternative: distplots"
   ]
  },
  {
   "cell_type": "code",
   "execution_count": null,
   "metadata": {
    "collapsed": false
   },
   "outputs": [],
   "source": [
    "seaborn.distplot(beta_excess, bins=np.linspace(np.min(beta_excess), np.max(beta_excess), 50))\n",
    "seaborn.distplot(beta_normal, bins=np.linspace(np.min(beta_normal), np.max(beta_normal), 50))\n",
    "plt.legend((['beta_excess', 'beta_normal']))"
   ]
  },
  {
   "cell_type": "code",
   "execution_count": null,
   "metadata": {
    "collapsed": false
   },
   "outputs": [],
   "source": [
    "%%capture\n",
    "import os\n",
    "assert 'THEANO_FLAGS' in os.environ\n",
    "\n",
    "# switch to cpu\n",
    "os.environ['THEANO_FLAGS'] = 'floatX=float32,device=cpu,nvcc.fastmath=True'\n",
    "%load_ext autoreload\n",
    "%autoreload 2"
   ]
  }
 ],
 "metadata": {
  "kernelspec": {
   "display_name": "Python 2",
   "language": "python",
   "name": "python2"
  },
  "language_info": {
   "codemirror_mode": {
    "name": "ipython",
    "version": 2
   },
   "file_extension": ".py",
   "mimetype": "text/x-python",
   "name": "python",
   "nbconvert_exporter": "python",
   "pygments_lexer": "ipython2",
   "version": "2.7.12"
  }
 },
 "nbformat": 4,
 "nbformat_minor": 2
}
