{
 "cells": [
  {
   "cell_type": "code",
   "execution_count": null,
   "metadata": {
    "collapsed": false
   },
   "outputs": [],
   "source": [
    "import os\n",
    "assert 'THEANO_FLAGS' in os.environ\n",
    "# switch to cpu\n",
    "os.environ['THEANO_FLAGS'] = 'floatX=float32,device=cpu,nvcc.fastmath=True'\n",
    "%load_ext autoreload\n",
    "%autoreload 2"
   ]
  },
  {
   "cell_type": "code",
   "execution_count": null,
   "metadata": {
    "collapsed": true
   },
   "outputs": [],
   "source": [
    "import matplotlib\n",
    "from matplotlib import pyplot as plt\n",
    "from matplotlib import cm\n",
    "%matplotlib inline\n",
    "%config InlineBackend.figure_format = 'png'\n",
    "\n",
    "import seaborn\n",
    "seaborn.set_style('darkgrid')\n",
    "matplotlib.rcParams['figure.figsize'] = (16.0, 1.0)\n",
    "matplotlib.rcParams['font.size'] = 7\n"
   ]
  },
  {
   "cell_type": "code",
   "execution_count": null,
   "metadata": {
    "collapsed": false
   },
   "outputs": [],
   "source": [
    "#! wget --password nedc_tuh_eeg --user nedc_tuh_eeg https://www.isip.piconepress.com/projects/tuh_eeg/downloads/tuh_eeg/v0.6.0/edf/001/00000010.tar.gz"
   ]
  },
  {
   "cell_type": "code",
   "execution_count": null,
   "metadata": {
    "collapsed": false
   },
   "outputs": [],
   "source": [
    "#! tar -xvf 00000010.tar.gz"
   ]
  },
  {
   "cell_type": "code",
   "execution_count": null,
   "metadata": {
    "collapsed": true
   },
   "outputs": [],
   "source": [
    "import mne.io"
   ]
  },
  {
   "cell_type": "code",
   "execution_count": null,
   "metadata": {
    "collapsed": false
   },
   "outputs": [],
   "source": [
    "filename = 'tuh_eeg/v0.6.0/edf/001/00000010/s02_2012_03_01/a_3.edf'\n",
    "dataset =  mne.io.read_raw_edf(filename)"
   ]
  },
  {
   "cell_type": "code",
   "execution_count": null,
   "metadata": {
    "collapsed": false
   },
   "outputs": [],
   "source": [
    "dataset.load_data()"
   ]
  },
  {
   "cell_type": "code",
   "execution_count": null,
   "metadata": {
    "collapsed": false
   },
   "outputs": [],
   "source": [
    "signal = dataset.get_data()"
   ]
  },
  {
   "cell_type": "markdown",
   "metadata": {},
   "source": [
    "Find out sampling rate by looking at timestamps"
   ]
  },
  {
   "cell_type": "code",
   "execution_count": null,
   "metadata": {
    "collapsed": false
   },
   "outputs": [],
   "source": [
    "import numpy as np\n",
    "np.unique(np.int32(1.0 / np.diff(dataset.times))) # -> sampling rate 250"
   ]
  },
  {
   "cell_type": "markdown",
   "metadata": {},
   "source": [
    "#### Windowed FFT"
   ]
  },
  {
   "cell_type": "code",
   "execution_count": null,
   "metadata": {
    "collapsed": false
   },
   "outputs": [],
   "source": [
    "def extract_windows(signal, win_len, win_stride, axis):\n",
    "    signal_crops = []\n",
    "    for i_start in range(0, signal.shape[axis] - win_len+1, win_stride):\n",
    "        signal_crops.append(np.take(signal, range(i_start,i_start+win_len), axis=axis,))\n",
    "    return np.array(signal_crops)"
   ]
  },
  {
   "cell_type": "code",
   "execution_count": null,
   "metadata": {
    "collapsed": false
   },
   "outputs": [],
   "source": [
    "windows = extract_windows(signal, win_len=500,win_stride=500,axis=1)\n",
    "\n",
    "ffted =  np.fft.rfft(windows, axis=-1)\n",
    "\n",
    "amplitudes = np.abs(ffted)"
   ]
  },
  {
   "cell_type": "markdown",
   "metadata": {},
   "source": [
    "### Plot median"
   ]
  },
  {
   "cell_type": "code",
   "execution_count": null,
   "metadata": {
    "collapsed": false
   },
   "outputs": [],
   "source": [
    "median_amp = np.median(amplitudes, axis=0)"
   ]
  },
  {
   "cell_type": "code",
   "execution_count": null,
   "metadata": {
    "collapsed": false
   },
   "outputs": [],
   "source": [
    "freqs = np.fft.rfftfreq(n=500, d=1/250.0)\n",
    "i_chan = dataset.ch_names.index('EEG O1-REF')\n",
    "plt.plot(freqs, median_amp[i_chan])\n",
    "plt.figure()\n",
    "plt.plot(freqs, median_amp[i_chan])\n",
    "plt.gca().set_xscale('log')\n",
    "plt.gca().set_yscale('log')"
   ]
  },
  {
   "cell_type": "code",
   "execution_count": null,
   "metadata": {
    "collapsed": false
   },
   "outputs": [],
   "source": [
    "freqs = np.fft.rfftfreq(n=500, d=1/250.0)\n",
    "i_chan = dataset.ch_names.index('EEG O2-REF')\n",
    "plt.plot(freqs, median_amp[i_chan])\n",
    "plt.figure()\n",
    "plt.plot(freqs, median_amp[i_chan])\n",
    "plt.gca().set_xscale('log')\n",
    "plt.gca().set_yscale('log')"
   ]
  },
  {
   "cell_type": "markdown",
   "metadata": {},
   "source": [
    "### Plot mean"
   ]
  },
  {
   "cell_type": "code",
   "execution_count": null,
   "metadata": {
    "collapsed": true
   },
   "outputs": [],
   "source": [
    "mean_amp = np.mean(amplitudes, axis=0)"
   ]
  },
  {
   "cell_type": "code",
   "execution_count": null,
   "metadata": {
    "collapsed": false
   },
   "outputs": [],
   "source": [
    "freqs = np.fft.rfftfreq(n=500, d=1/250.0)\n",
    "i_chan = dataset.ch_names.index('EEG O1-REF')\n",
    "plt.plot(freqs, mean_amp[i_chan])\n",
    "plt.figure()\n",
    "plt.plot(freqs, mean_amp[i_chan])\n",
    "plt.gca().set_xscale('log')\n",
    "plt.gca().set_yscale('log')"
   ]
  },
  {
   "cell_type": "code",
   "execution_count": null,
   "metadata": {
    "collapsed": false
   },
   "outputs": [],
   "source": [
    "plt.plot(signal[i_chan]);"
   ]
  },
  {
   "cell_type": "code",
   "execution_count": null,
   "metadata": {
    "collapsed": false
   },
   "outputs": [],
   "source": [
    "plt.plot(signal[i_chan][0:2000])"
   ]
  },
  {
   "cell_type": "code",
   "execution_count": null,
   "metadata": {
    "collapsed": false
   },
   "outputs": [],
   "source": [
    "plt.plot(signal[i_chan][-2000:]);"
   ]
  },
  {
   "cell_type": "markdown",
   "metadata": {},
   "source": [
    "### Plot mean fft without last part"
   ]
  },
  {
   "cell_type": "code",
   "execution_count": null,
   "metadata": {
    "collapsed": false
   },
   "outputs": [],
   "source": [
    "windows = extract_windows(signal[:,:-500], win_len=500,win_stride=500,axis=1)\n",
    "ffted =  np.fft.rfft(windows, axis=-1)\n",
    "amplitudes = np.abs(ffted)\n",
    "mean_amp = np.mean(amplitudes, axis=0)\n",
    "\n",
    "freqs = np.fft.rfftfreq(n=500, d=1/250.0)\n",
    "i_chan = dataset.ch_names.index('EEG O1-REF')\n",
    "plt.plot(freqs, mean_amp[i_chan])\n",
    "plt.figure()\n",
    "plt.plot(freqs, mean_amp[i_chan])\n",
    "plt.gca().set_xscale('log')\n",
    "plt.gca().set_yscale('log')"
   ]
  }
 ],
 "metadata": {
  "kernelspec": {
   "display_name": "Python 3",
   "language": "python",
   "name": "python3"
  },
  "language_info": {
   "codemirror_mode": {
    "name": "ipython",
    "version": 3
   },
   "file_extension": ".py",
   "mimetype": "text/x-python",
   "name": "python",
   "nbconvert_exporter": "python",
   "pygments_lexer": "ipython3",
   "version": "3.5.2"
  }
 },
 "nbformat": 4,
 "nbformat_minor": 2
}
