{
 "cells": [
  {
   "cell_type": "code",
   "execution_count": null,
   "metadata": {
    "collapsed": true,
    "deletable": true,
    "editable": true
   },
   "outputs": [],
   "source": [
    "%%capture\n",
    "import os\n",
    "import site\n",
    "os.sys.path.insert(0, '/home/schirrmr/braindecode/code/')\n",
    "os.sys.path.insert(0, '/home/schirrmr/braindecode/code/braindecode/')\n",
    "os.sys.path.insert(0, '/home/schirrmr/code/auto-diagnosis/')\n",
    "%cd /home/schirrmr/\n",
    "# switch to cpu\n",
    "os.environ['THEANO_FLAGS'] = 'floatX=float32,device=cpu,nvcc.fastmath=True'\n",
    "\n",
    "%load_ext autoreload\n",
    "%autoreload 2"
   ]
  },
  {
   "cell_type": "code",
   "execution_count": null,
   "metadata": {
    "collapsed": true,
    "deletable": true,
    "editable": true
   },
   "outputs": [],
   "source": [
    "import numpy as np\n",
    "import matplotlib\n",
    "from matplotlib import pyplot as plt\n",
    "from matplotlib import cm\n",
    "%matplotlib inline\n",
    "%config InlineBackend.figure_format = 'svg' \n",
    "matplotlib.rcParams['figure.figsize'] = (12.0, 1.0)\n",
    "matplotlib.rcParams['font.size'] = 7\n",
    "\n",
    "import matplotlib.lines as mlines\n",
    "import seaborn\n",
    "seaborn.set_style('darkgrid')\n",
    "import logging\n",
    "log = logging.getLogger()\n",
    "log.setLevel('DEBUG')\n",
    "import sys\n",
    "logging.basicConfig(format='%(asctime)s %(levelname)s : %(message)s',\n",
    "                     level=logging.DEBUG, stream=sys.stdout)"
   ]
  },
  {
   "cell_type": "code",
   "execution_count": null,
   "metadata": {
    "collapsed": false,
    "deletable": true,
    "editable": true
   },
   "outputs": [],
   "source": [
    "%%time\n",
    "preproced_short_X = np.load('/home/schirrmr/code/auto-diagnosis/preproced-short-X.npy')"
   ]
  },
  {
   "cell_type": "code",
   "execution_count": null,
   "metadata": {
    "collapsed": false,
    "deletable": true,
    "editable": true
   },
   "outputs": [],
   "source": [
    "\n",
    "import torch.nn.functional as F\n",
    "import torch as th\n",
    "from braindecode.torch_ext.util import np_to_var\n",
    "def clean_jumps(x, window_len, threshold, expected, cuda):\n",
    "    x_var = np_to_var([x])\n",
    "    if cuda:\n",
    "        x_var = x_var.cuda()\n",
    "\n",
    "    maxs = F.max_pool1d(x_var,window_len, stride=1)\n",
    "    mins = F.max_pool1d(-x_var,window_len, stride=1)\n",
    "\n",
    "    diffs = maxs + mins\n",
    "    large_diffs = (diffs > threshold).type_as(diffs) * diffs\n",
    "    padded = F.pad(large_diffs.unsqueeze(0), (window_len-1,window_len-1, 0,0), 'constant', 0)\n",
    "    max_diffs = th.max(padded[:,:,:,window_len-1:], padded[:,:,:,:-window_len+1]).unsqueeze(0)\n",
    "    max_diffs = th.clamp(max_diffs, min=expected)\n",
    "    x_var = x_var * (expected / max_diffs)\n",
    "\n",
    "    x = x_var.data.cpu().numpy()[0]\n",
    "    return x"
   ]
  },
  {
   "cell_type": "code",
   "execution_count": null,
   "metadata": {
    "collapsed": true,
    "deletable": true,
    "editable": true
   },
   "outputs": [],
   "source": [
    "x = preproced_short_X[276]"
   ]
  },
  {
   "cell_type": "code",
   "execution_count": null,
   "metadata": {
    "collapsed": false,
    "deletable": true,
    "editable": true
   },
   "outputs": [],
   "source": [
    "plt.plot(x[:,17000:18000].T);"
   ]
  },
  {
   "cell_type": "code",
   "execution_count": null,
   "metadata": {
    "collapsed": false,
    "deletable": true,
    "editable": true
   },
   "outputs": [],
   "source": [
    "window_len = 25\n",
    "threshold = 10\n",
    "expected = 1\n",
    "cuda = True\n",
    "cleaned_x = clean_jumps(x,window_len, threshold,expected, cuda)"
   ]
  },
  {
   "cell_type": "code",
   "execution_count": null,
   "metadata": {
    "collapsed": false,
    "deletable": true,
    "editable": true
   },
   "outputs": [],
   "source": [
    "plt.plot(cleaned_x[:,17000:18000].T);"
   ]
  },
  {
   "cell_type": "code",
   "execution_count": null,
   "metadata": {
    "collapsed": false,
    "deletable": true,
    "editable": true
   },
   "outputs": [],
   "source": [
    "x = preproced_short_X[1739]\n",
    "plt.plot(x[:,13000:14000].T);\n",
    "plt.figure()\n",
    "cleaned_x = clean_jumps(x,window_len, threshold,expected, cuda)\n",
    "plt.plot(cleaned_x[:,13000:14000].T);"
   ]
  },
  {
   "cell_type": "code",
   "execution_count": null,
   "metadata": {
    "collapsed": true,
    "deletable": true,
    "editable": true
   },
   "outputs": [],
   "source": [
    "def running_mean(arr, window_len, axis=0):\n",
    "    # adapted from http://stackoverflow.com/a/27681394/1469195\n",
    "    # need to pad to get correct first value also\n",
    "    arr_padded = np.insert(arr,0,values=0,axis=axis)\n",
    "    cumsum = np.cumsum(arr_padded,axis=axis)\n",
    "    later_sums = np.take(cumsum, range(window_len, arr_padded.shape[axis]), \n",
    "        axis=axis)\n",
    "    earlier_sums = np.take(cumsum, range(0, arr_padded.shape[axis] - window_len), \n",
    "        axis=axis)\n",
    "\n",
    "    moving_average = (later_sums - earlier_sums) / float(window_len)\n",
    "    return moving_average\n",
    "\n",
    "def padded_moving_mean(arr, axis, n_window):\n",
    "    \"\"\"Pads by replicating n_window first and last elements\n",
    "    and putting them at end and start (no reflection)\"\"\"\n",
    "    start_pad_inds = list(range(0, n_window // 2))\n",
    "    end_pad_inds = list(range(arr.shape[axis] - (n_window // 2),\n",
    "                              arr.shape[axis]))\n",
    "    arr = np.concatenate((arr.take(start_pad_inds, axis=axis),\n",
    "                          arr,\n",
    "                          arr.take(end_pad_inds, axis=axis)),\n",
    "                         axis=axis)\n",
    "    mov_mean = running_mean(arr, window_len=n_window, axis=axis)\n",
    "    return mov_mean\n",
    "\n",
    "def padded_moving_demean(arr, axis, n_window):\n",
    "    assert arr.dtype != np.float16\n",
    "    assert n_window % 2 == 1\n",
    "    mov_mean = padded_moving_mean(arr, axis, n_window=n_window)\n",
    "    arr = arr - mov_mean\n",
    "    return arr\n",
    "\n",
    "def padded_moving_divide_square(arr, axis, n_window, eps=0.1):\n",
    "    \"\"\"Pads by replicating n_window first and last elements\n",
    "    and putting them at end and start (no reflection)\"\"\"\n",
    "    assert arr.dtype != np.float16\n",
    "    assert n_window % 2 == 1\n",
    "    mov_mean_sqr = padded_moving_mean(np.square(arr), axis=axis, n_window=n_window)\n",
    "    arr = arr / np.maximum(np.sqrt(mov_mean_sqr), eps)\n",
    "    return arr\n",
    "\n",
    "def padded_moving_standardize(arr, axis, n_window, eps=0.1):\n",
    "    assert arr.dtype != np.float16\n",
    "    assert n_window % 2 == 1\n",
    "    arr = padded_moving_demean(arr, axis=axis, n_window=n_window)\n",
    "    arr = padded_moving_divide_square(arr, axis=axis, n_window=n_window, eps=eps)\n",
    "    return arr\n"
   ]
  },
  {
   "cell_type": "code",
   "execution_count": null,
   "metadata": {
    "collapsed": false,
    "deletable": true,
    "editable": true
   },
   "outputs": [],
   "source": []
  },
  {
   "cell_type": "code",
   "execution_count": null,
   "metadata": {
    "collapsed": false,
    "deletable": true,
    "editable": true
   },
   "outputs": [],
   "source": [
    "%%prun\n",
    "padded_moving_standardize(x,axis=1, n_window=201)\n"
   ]
  },
  {
   "cell_type": "code",
   "execution_count": null,
   "metadata": {
    "collapsed": false,
    "deletable": true,
    "editable": true
   },
   "outputs": [],
   "source": [
    "from braindecode.models.deep4 import Deep4Net\n",
    "from braindecode.models.shallow_fbcsp import ShallowFBCSPNet\n",
    "from braindecode.models.util import to_dense_prediction_model\n",
    "input_time_length = 2000\n",
    "in_chans = 21\n",
    "n_classes = 2\n",
    "model = Deep4Net(in_chans, n_classes, input_time_length=input_time_length,\n",
    "    final_conv_length=2).create_network()\n",
    "#model = ShallowFBCSPNet(in_chans, n_classes, input_time_length=input_time_length,\n",
    "#                            final_conv_length=40).create_network()\n",
    "to_dense_prediction_model(model)\n",
    "log.info(\"Model:\\n{:s}\".format(str(model)))\n",
    "if cuda:\n",
    "    model.cuda()\n",
    "\n",
    "from braindecode.torch_ext.util import np_to_var\n",
    "# determine output size\n",
    "test_input = np_to_var(np.ones((2, in_chans, input_time_length, 1), dtype=np.float32))\n",
    "if cuda:\n",
    "    test_input = test_input.cuda()\n",
    "out = model(test_input)\n",
    "n_preds_per_input = out.cpu().data.numpy().shape[2]\n",
    "log.info(\"{:d} predictions per input/trial\".format(n_preds_per_input))\n",
    "log.info(\"{:d} receptive field size\".format(input_time_length - n_preds_per_input + 1))"
   ]
  },
  {
   "cell_type": "code",
   "execution_count": null,
   "metadata": {
    "collapsed": true,
    "deletable": true,
    "editable": true
   },
   "outputs": [],
   "source": [
    "from braindecode.datautil.signalproc import lowpass_cnt, highpass_cnt"
   ]
  },
  {
   "cell_type": "code",
   "execution_count": null,
   "metadata": {
    "collapsed": false,
    "deletable": true,
    "editable": true
   },
   "outputs": [],
   "source": [
    "x_bandpassed = highpass_cnt(x, 0.1, 100,5)\n",
    "\n",
    "plt.plot(x_bandpassed[:,13000:14000].T);"
   ]
  },
  {
   "cell_type": "code",
   "execution_count": null,
   "metadata": {
    "collapsed": false,
    "deletable": true,
    "editable": true
   },
   "outputs": [],
   "source": [
    "x_bandpassed = lowpass_cnt(x, 40, 100,15)\n",
    "plt.plot(x_bandpassed[:,13000:14000].T);"
   ]
  },
  {
   "cell_type": "code",
   "execution_count": null,
   "metadata": {
    "collapsed": false,
    "deletable": true,
    "editable": true
   },
   "outputs": [],
   "source": [
    "x_bandpassed = bandpass_cnt(x, 0.1, 40, 100,5)\n",
    "plt.plot(x_bandpassed[:,13000:14000].T);"
   ]
  }
 ],
 "metadata": {
  "kernelspec": {
   "display_name": "Python 3",
   "language": "python",
   "name": "python3"
  },
  "language_info": {
   "codemirror_mode": {
    "name": "ipython",
    "version": 3
   },
   "file_extension": ".py",
   "mimetype": "text/x-python",
   "name": "python",
   "nbconvert_exporter": "python",
   "pygments_lexer": "ipython3",
   "version": "3.5.2"
  }
 },
 "nbformat": 4,
 "nbformat_minor": 2
}
