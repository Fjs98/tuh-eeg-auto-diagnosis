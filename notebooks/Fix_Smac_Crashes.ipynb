{
 "cells": [
  {
   "cell_type": "code",
   "execution_count": null,
   "metadata": {
    "collapsed": true
   },
   "outputs": [],
   "source": [
    "%%capture\n",
    "from importlib import reload\n",
    "import logging\n",
    "reload(logging)\n",
    "logging.basicConfig(format='%(asctime)s %(levelname)s:%(message)s', level=logging.DEBUG, datefmt='%I:%M:%S')\n",
    "log = logging.getLogger()\n",
    "log.setLevel(logging.DEBUG)\n",
    "\n",
    "import os\n",
    "import site\n",
    "os.sys.path.insert(0, '/home/schirrmr/braindecode/code/')\n",
    "os.sys.path.insert(0, '/home/schirrmr/braindecode/code/braindecode/')\n",
    "%cd /home/schirrmr/\n",
    "# switch to cpu\n",
    "os.environ['THEANO_FLAGS'] = 'floatX=float32,device=cpu,nvcc.fastmath=True'\n",
    "\n",
    "%load_ext autoreload\n",
    "%autoreload 2\n",
    "\n",
    "import numpy as np\n",
    "import matplotlib\n",
    "from matplotlib import pyplot as plt\n",
    "from matplotlib import cm\n",
    "%matplotlib inline\n",
    "%config InlineBackend.figure_format = 'svg' \n",
    "matplotlib.rcParams['figure.figsize'] = (12.0, 3.0)\n",
    "matplotlib.rcParams['font.size'] = 7\n",
    "\n",
    "import matplotlib.lines as mlines\n",
    "import seaborn\n",
    "seaborn.set_style('darkgrid')\n",
    "from hyperoptim.results import load_data_frame, remove_columns_with_same_value, dataset_averaged_frame\n",
    "from hyperoptim.results import mean_identical_exps\n",
    "import pandas as pd\n",
    "from hyperoptim.results import remove_columns_with_same_value, remove_indices_with_same_value\n",
    "\n",
    "import json\n",
    "from collections import OrderedDict\n",
    "\n",
    "from copy import deepcopy\n",
    "\n",
    "for run_id in range(1,16):\n",
    "    runhistory_filename = 'data/models/pytorch/auto-diag/smac-deep4/deterministic_run{:d}/runhistory.json'.format(\n",
    "            run_id)\n",
    "    content = open(runhistory_filename, 'r').read()\n",
    "    runjson = json.loads(content)\n",
    "    print(run_id)\n",
    "    clean_entries = []\n",
    "    for entry in runjson['data']:\n",
    "        if int(entry[1][1]) == 1234567890:\n",
    "            print(\"Crash id, \", entry[0][0])\n",
    "        else:\n",
    "            clean_entries.append(entry)\n",
    "    clean_configs = deepcopy(runjson['configs'])\n",
    "    cleandict = OrderedDict([('configs', clean_configs), ('data', clean_entries)])\n",
    "    json.dump(cleandict, open(runhistory_filename, 'w'),)\n"
   ]
  },
  {
   "cell_type": "code",
   "execution_count": null,
   "metadata": {},
   "outputs": [],
   "source": [
    "from copy import deepcopy\n",
    "for run_id in range(1,17):\n",
    "    runhistory_filename = 'data/models/pytorch/auto-diag/smac-shallow/deterministic_run{:d}/runhistory.json'.format(\n",
    "            run_id)\n",
    "    content = open(runhistory_filename, 'r').read()\n",
    "    runjson = json.loads(content)\n",
    "    print(run_id)\n",
    "    clean_entries = []\n",
    "    for entry in runjson['data']:\n",
    "        if int(entry[1][1]) == 1234567890:\n",
    "            print(\"Crash id, \", entry[0][0])\n",
    "        else:\n",
    "            clean_entries.append(entry)\n",
    "    clean_configs = deepcopy(runjson['configs'])\n",
    "    cleandict = OrderedDict([('configs', clean_configs), ('data', clean_entries)])\n",
    "    json.dump(cleandict, open(runhistory_filename, 'w'),)\n"
   ]
  },
  {
   "cell_type": "code",
   "execution_count": null,
   "metadata": {
    "collapsed": true
   },
   "outputs": [],
   "source": [
    "from collections import OrderedDict\n",
    "cleaned_configs = OrderedDict()"
   ]
  },
  {
   "cell_type": "code",
   "execution_count": null,
   "metadata": {
    "collapsed": true
   },
   "outputs": [],
   "source": [
    "for key in runjson['configs']:\n",
    "    if int(key) < crash_start_id:\n",
    "        cleaned_configs[key] = runjson['configs'][key]\n"
   ]
  },
  {
   "cell_type": "code",
   "execution_count": null,
   "metadata": {
    "collapsed": true
   },
   "outputs": [],
   "source": [
    "cleaned_data = []\n",
    "for entry in runjson['data']:\n",
    "    run_id = entry[0][0]\n",
    "    if run_id < crash_start_id:\n",
    "        cleaned_data.append(entry)"
   ]
  },
  {
   "cell_type": "code",
   "execution_count": null,
   "metadata": {},
   "outputs": [],
   "source": []
  },
  {
   "cell_type": "code",
   "execution_count": null,
   "metadata": {},
   "outputs": [],
   "source": []
  },
  {
   "cell_type": "code",
   "execution_count": null,
   "metadata": {},
   "outputs": [],
   "source": [
    "len(runjson['data'])"
   ]
  },
  {
   "cell_type": "code",
   "execution_count": null,
   "metadata": {},
   "outputs": [],
   "source": [
    "runjson"
   ]
  }
 ],
 "metadata": {
  "kernelspec": {
   "display_name": "Python 3",
   "language": "python",
   "name": "python3"
  },
  "language_info": {
   "codemirror_mode": {
    "name": "ipython",
    "version": 3
   },
   "file_extension": ".py",
   "mimetype": "text/x-python",
   "name": "python",
   "nbconvert_exporter": "python",
   "pygments_lexer": "ipython3",
   "version": "3.5.2"
  }
 },
 "nbformat": 4,
 "nbformat_minor": 2
}
