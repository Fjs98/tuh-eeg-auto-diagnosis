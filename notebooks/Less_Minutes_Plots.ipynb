{
 "cells": [
  {
   "cell_type": "code",
   "execution_count": null,
   "metadata": {
    "collapsed": true
   },
   "outputs": [],
   "source": [
    "%%capture\n",
    "from importlib import reload\n",
    "import logging\n",
    "reload(logging)\n",
    "logging.basicConfig(format='%(asctime)s %(levelname)s:%(message)s', level=logging.DEBUG, datefmt='%I:%M:%S')\n",
    "log = logging.getLogger()\n",
    "log.setLevel(logging.DEBUG)\n",
    "\n",
    "import os\n",
    "import site\n",
    "os.sys.path.insert(0, '/home/schirrmr/braindecode/code/')\n",
    "os.sys.path.insert(0, '/home/schirrmr/braindecode/code/braindecode/')\n",
    "%cd /home/schirrmr/\n",
    "# switch to cpu\n",
    "os.environ['THEANO_FLAGS'] = 'floatX=float32,device=cpu,nvcc.fastmath=True'\n",
    "\n",
    "%load_ext autoreload\n",
    "%autoreload 2\n",
    "\n",
    "import numpy as np\n",
    "import matplotlib\n",
    "from matplotlib import pyplot as plt\n",
    "from matplotlib import cm\n",
    "%matplotlib inline\n",
    "%config InlineBackend.figure_format = 'svg' \n",
    "matplotlib.rcParams['font.size'] = 7\n",
    "\n",
    "import matplotlib.lines as mlines\n",
    "import seaborn\n",
    "seaborn.set_style('darkgrid')\n",
    "matplotlib.rcParams['figure.figsize'] = (12.0, 3.0)\n",
    "from hyperoptim.results import load_data_frame, remove_columns_with_same_value, dataset_averaged_frame\n",
    "from hyperoptim.results import mean_identical_exps\n",
    "import pandas as pd\n",
    "from hyperoptim.results import remove_columns_with_same_value, remove_indices_with_same_value\n",
    "\n",
    "import json\n",
    "from collections import OrderedDict\n",
    "\n",
    "from copy import deepcopy"
   ]
  },
  {
   "cell_type": "code",
   "execution_count": null,
   "metadata": {},
   "outputs": [],
   "source": [
    "\n",
    "df = load_data_frame('data/models/pytorch/auto-diag/less-minutes/')\n",
    "df = df[df.finished == 1]\n",
    "df = df.fillna('-')\n",
    "df = df.drop('seed', axis=1)\n",
    "df = df.drop(['save_predictions', 'save_folder'], axis=1)\n",
    "df.runtime = pd.to_timedelta(np.round(df.runtime), unit='s')\n",
    "df = remove_columns_with_same_value(df)\n",
    "print(len(df))\n",
    "df = df.rename(columns=dict(shrink_the_spikes='shrink',\n",
    "                            channel_standardize='chan_std',\n",
    "                            low_cut_hz='low_hz',\n",
    "                            max_abs_val='max_val',\n",
    "                            high_cut_hz='high_hz',\n",
    "                            moving_demean='m_mean',\n",
    "                            moving_standardize='m_std')).drop(['train_loss', 'valid_loss',\n",
    "                                                       'test_loss', 'valid_misclass',\n",
    "                                                       ], axis=1)\n",
    "#df = df.drop(['save_predictions', 'save_crop_predictions',], axis=1)\n",
    "df.test_misclass = df.test_misclass * 100\n",
    "\n",
    "df['test_accuracy'] = 100 - df.test_misclass\n",
    "print(len(df))\n",
    "df = df.sort_values(by=['test_recording_mins','duration_recording_mins'])\n",
    "df"
   ]
  },
  {
   "cell_type": "code",
   "execution_count": null,
   "metadata": {},
   "outputs": [],
   "source": [
    "df_train_test_reduced"
   ]
  },
  {
   "cell_type": "code",
   "execution_count": null,
   "metadata": {
    "collapsed": true
   },
   "outputs": [],
   "source": [
    "minute_steps, all_trial_accs, all_crop_accs = np.load(\n",
    "    'data/models/pytorch/auto-diag/less-minutes/12/reduced_time_accuracies.npy')\n",
    "minute_steps = minute_steps[1:]\n",
    "all_trial_accs = all_trial_accs[1:]\n",
    "all_crop_accs = all_crop_accs[1:]"
   ]
  },
  {
   "cell_type": "code",
   "execution_count": null,
   "metadata": {},
   "outputs": [],
   "source": [
    "all_trial_accs"
   ]
  },
  {
   "cell_type": "code",
   "execution_count": null,
   "metadata": {},
   "outputs": [],
   "source": [
    "plt.figure(figsize=(8,2))\n",
    "df_train_test_reduced = df[df.test_recording_mins == '-']\n",
    "plt.plot(np.array(df_train_test_reduced.duration_recording_mins), np.array(df_train_test_reduced.test_accuracy),\n",
    "        color=seaborn.color_palette()[0], label='Reduce train and test')\n",
    "plt.plot(np.array(df_train_test_reduced.duration_recording_mins), \n",
    "         100 - 100*np.array(df_train_test_reduced.test_sample_misclass),\n",
    "        color=seaborn.color_palette()[0], ls=':')\n",
    "df_train_reduced = df[df.test_recording_mins == 20]\n",
    "plt.plot(np.array(df_train_reduced.duration_recording_mins), np.array(df_train_reduced.test_accuracy),\n",
    "        color=seaborn.color_palette()[1], label='Reduce train only')\n",
    "plt.plot(np.array(df_train_reduced.duration_recording_mins), \n",
    "         100 - 100*np.array(df_train_reduced.test_sample_misclass),\n",
    "        color=seaborn.color_palette()[1], ls=':')\n",
    "plt.plot(minute_steps, all_trial_accs * 100,\n",
    "        color=seaborn.color_palette()[2], label='Reduce test only')\n",
    "plt.plot(minute_steps, all_crop_accs * 100,\n",
    "        color=seaborn.color_palette()[2], ls=':')\n",
    "\n",
    "plt.xscale('symlog',basex=2)\n",
    "plt.xticks(np.array(df_train_test_reduced.duration_recording_mins))\n",
    "plt.gca().get_xaxis().set_major_formatter(matplotlib.ticker.ScalarFormatter())\n",
    "plt.xlabel(\"Time [minutes]\", fontsize=12)\n",
    "plt.ylabel(\"Test Accuracy [%]\", fontsize=12)\n",
    "#plt.legend(bbox_to_anchor=(1,1,0,0));\n",
    "ax = plt.gca()\n",
    "handles, labels = ax.get_legend_handles_labels()\n",
    "from matplotlib.lines import Line2D\n",
    "\n",
    "handles.append(Line2D([0,1], [0,0], color='black', \n",
    "    markersize=9, linewidth=1.5))\n",
    "handles.append(Line2D([0,1], [0,0], color='black', \n",
    "    markersize=9, linewidth=1.5, ls=\":\"))\n",
    "labels.append('Trialwise')\n",
    "labels.append('Cropwise')\n",
    "\n",
    "ax.legend(handles, labels, \n",
    "          bbox_to_anchor=(1,1,0,0),\n",
    "         fontsize=12)"
   ]
  }
 ],
 "metadata": {
  "kernelspec": {
   "display_name": "Python 3",
   "language": "python",
   "name": "python3"
  },
  "language_info": {
   "codemirror_mode": {
    "name": "ipython",
    "version": 3
   },
   "file_extension": ".py",
   "mimetype": "text/x-python",
   "name": "python",
   "nbconvert_exporter": "python",
   "pygments_lexer": "ipython3",
   "version": "3.5.2"
  }
 },
 "nbformat": 4,
 "nbformat_minor": 2
}
