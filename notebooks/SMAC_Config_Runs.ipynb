{
 "cells": [
  {
   "cell_type": "code",
   "execution_count": null,
   "metadata": {
    "collapsed": true
   },
   "outputs": [],
   "source": [
    "%%capture\n",
    "from importlib import reload\n",
    "import logging\n",
    "reload(logging)\n",
    "logging.basicConfig(format='%(asctime)s %(levelname)s:%(message)s', level=logging.DEBUG, datefmt='%I:%M:%S')\n",
    "log = logging.getLogger()\n",
    "log.setLevel(logging.DEBUG)\n",
    "\n",
    "import os\n",
    "import site\n",
    "os.sys.path.insert(0, '/home/schirrmr/braindecode/code/')\n",
    "os.sys.path.insert(0, '/home/schirrmr/braindecode/code/braindecode/')\n",
    "%cd /home/schirrmr/\n",
    "# switch to cpu\n",
    "os.environ['THEANO_FLAGS'] = 'floatX=float32,device=cpu,nvcc.fastmath=True'\n",
    "\n",
    "%load_ext autoreload\n",
    "%autoreload 2\n",
    "\n",
    "import numpy as np\n",
    "import matplotlib\n",
    "from matplotlib import pyplot as plt\n",
    "from matplotlib import cm\n",
    "%matplotlib inline\n",
    "%config InlineBackend.figure_format = 'svg' \n",
    "matplotlib.rcParams['font.size'] = 7\n",
    "\n",
    "import matplotlib.lines as mlines\n",
    "import seaborn\n",
    "seaborn.set_style('darkgrid')\n",
    "matplotlib.rcParams['figure.figsize'] = (12.0, 3.0)\n",
    "from hyperoptim.results import load_data_frame, remove_columns_with_same_value, dataset_averaged_frame\n",
    "from hyperoptim.results import mean_identical_exps\n",
    "import pandas as pd\n",
    "from hyperoptim.results import remove_columns_with_same_value, remove_indices_with_same_value\n",
    "\n",
    "import json\n",
    "from collections import OrderedDict\n",
    "\n",
    "from copy import deepcopy"
   ]
  },
  {
   "cell_type": "code",
   "execution_count": null,
   "metadata": {},
   "outputs": [],
   "source": [
    "all_entries = []\n",
    "enum_crashed = 'StatusType.CRASHED'\n",
    "enum_success = 'StatusType.SUCCESS'\n",
    "enum_timeout = 'StatusType.TIMEOUT'\n",
    "specific_entries = {enum_crashed:[], enum_success: [], enum_timeout: []}\n",
    "for run_id in range(1,16):\n",
    "    runhistory_filename = 'data/models/pytorch/auto-diag/smac-deep4/deterministic_run{:d}/runhistory.json'.format(\n",
    "            run_id)\n",
    "    content = open(runhistory_filename, 'r').read()\n",
    "    runjson = json.loads(content)\n",
    "    print(run_id)\n",
    "    for entry in runjson['data']:\n",
    "        assert entry[1][1] != 1234567890\n",
    "        outcome = entry[1][2]\n",
    "        assert outcome['__enum__'] in (enum_crashed,enum_success,enum_timeout)\n",
    "        specific_entries[outcome['__enum__']].append(tuple(entry[0]))\n",
    "        all_entries.append(tuple(entry[0]))\n",
    "    print(\"len entry\", len(runjson['data']))\n",
    "\n",
    "print(\"all entries\", len(set(all_entries)))\n",
    "\n",
    "for key in specific_entries:\n",
    "    print(key, len(set(specific_entries[key])))\n",
    "    print(key, len(np.unique([config for config, fold, _ in specific_entries[key]])))"
   ]
  },
  {
   "cell_type": "code",
   "execution_count": null,
   "metadata": {},
   "outputs": [],
   "source": [
    "all_entries = []\n",
    "enum_crashed = 'StatusType.CRASHED'\n",
    "enum_success = 'StatusType.SUCCESS'\n",
    "enum_timeout = 'StatusType.TIMEOUT'\n",
    "specific_entries = {enum_crashed:[], enum_success: [], enum_timeout: []}\n",
    "for run_id in range(1,16):\n",
    "    runhistory_filename = 'data/models/pytorch/auto-diag/smac-shallow/deterministic_run{:d}/runhistory.json'.format(\n",
    "            run_id)\n",
    "    content = open(runhistory_filename, 'r').read()\n",
    "    runjson = json.loads(content)\n",
    "    print(run_id)\n",
    "    for entry in runjson['data']:\n",
    "        assert entry[1][1] != 1234567890\n",
    "        outcome = entry[1][2]\n",
    "        assert outcome['__enum__'] in (enum_crashed,enum_success,enum_timeout)\n",
    "        specific_entries[outcome['__enum__']].append(tuple(entry[0]))\n",
    "        all_entries.append(tuple(entry[0]))\n",
    "    print(\"len entry\", len(runjson['data']))\n",
    "\n",
    "print(\"all entries\", len(set(all_entries)))\n",
    "\n",
    "for key in specific_entries:\n",
    "    print(key, len(set(specific_entries[key])))\n",
    "    print(key, len(np.unique([config for config, fold, _ in specific_entries[key]])))"
   ]
  }
 ],
 "metadata": {
  "kernelspec": {
   "display_name": "Python 3",
   "language": "python",
   "name": "python3"
  },
  "language_info": {
   "codemirror_mode": {
    "name": "ipython",
    "version": 3
   },
   "file_extension": ".py",
   "mimetype": "text/x-python",
   "name": "python",
   "nbconvert_exporter": "python",
   "pygments_lexer": "ipython3",
   "version": "3.5.2"
  }
 },
 "nbformat": 4,
 "nbformat_minor": 2
}
