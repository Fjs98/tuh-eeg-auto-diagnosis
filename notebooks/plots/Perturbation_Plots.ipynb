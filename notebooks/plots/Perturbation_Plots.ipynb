{
 "cells": [
  {
   "cell_type": "code",
   "execution_count": null,
   "metadata": {},
   "outputs": [],
   "source": [
    "import os\n",
    "import site\n",
    "os.sys.path.insert(0, '/home/schirrmr/braindecode/code/')\n",
    "os.sys.path.insert(0, '/home/schirrmr/braindecode/code/braindecode/')\n",
    "os.sys.path.insert(0, '/home/schirrmr/code/auto-diagnosis/')\n",
    "%cd /home/schirrmr/\n",
    "# switch to cpu\n",
    "os.environ['THEANO_FLAGS'] = 'floatX=float32,device=cpu,nvcc.fastmath=True'\n",
    "\n",
    "%load_ext autoreload\n",
    "%autoreload 2\n",
    "import numpy as np\n",
    "import matplotlib\n",
    "from matplotlib import pyplot as plt\n",
    "from matplotlib import cm\n",
    "%matplotlib inline\n",
    "%config InlineBackend.figure_format = 'png' \n",
    "matplotlib.rcParams['font.size'] = 7\n",
    "\n",
    "import matplotlib.lines as mlines\n",
    "import seaborn\n",
    "seaborn.set_style('darkgrid')\n",
    "matplotlib.rcParams['figure.figsize'] = (12.0, 3.0)\n",
    "import logging\n",
    "import importlib\n",
    "importlib.reload(logging) # see https://stackoverflow.com/a/21475297/1469195\n",
    "log = logging.getLogger()\n",
    "log.setLevel('DEBUG')\n",
    "import sys\n",
    "logging.basicConfig(format='%(asctime)s %(levelname)s : %(message)s',\n",
    "                     level=logging.DEBUG, stream=sys.stdout)\n",
    "\n"
   ]
  },
  {
   "cell_type": "code",
   "execution_count": null,
   "metadata": {
    "collapsed": true
   },
   "outputs": [],
   "source": [
    "\n",
    "from braindecode.datasets.sensor_positions import get_channelpos, CHANNEL_10_20_APPROX\n",
    "\n",
    "\n",
    "\n",
    "POS_APPROX = ('angle',\n",
    "    ('A1', (-5.0, 0.0)),\n",
    "    ('A2', (5.0, 0.0)),\n",
    "    ('Fp1', (-3.5, 3.5)),\n",
    "    ('Fp2', (3.5, 3.5)),\n",
    "    ('F7', (-4.0, 2.0)),\n",
    "    ('F3', (-2.0, 2.0)),\n",
    "    ('Fz', (0.0, 2.0)),\n",
    "    ('F4', (2.0, 2.0)),\n",
    "    ('F8', (4.0, 2.0)),\n",
    "    ('C3', (-2.0, 0.0)),\n",
    "    ('Cz', (0.0, 0.0)),\n",
    "    ('C4', (2.0, 0.0)),\n",
    "    ('T3', (-3,0)),\n",
    "    ('T4', (3,0)),\n",
    "    ('P3', (-2.0, -2.0)),\n",
    "    ('Pz', (0.0, -2.0)),\n",
    "    ('P4', (2.0, -2.0)),\n",
    "    ('T5', (-3.5,-2.)),\n",
    "    ('T6', (3.5,-2.)),          \n",
    "    ('O1', (-4, -3.5)),\n",
    "    ('O2', (4, -3.5)))\n",
    "\n",
    "ch_names = ['A1', 'A2', 'C3', 'C4', 'CZ', 'F3', 'F4', 'F7', 'F8', 'FP1',\n",
    "                    'FP2', 'FZ', 'O1', 'O2',\n",
    "                    'P3', 'P4', 'PZ', 'T3', 'T4', 'T5', 'T6']\n",
    "positions = [get_channelpos(name, POS_APPROX) for name in ch_names]\n",
    "positions = np.array(positions)\n"
   ]
  },
  {
   "cell_type": "markdown",
   "metadata": {},
   "source": [
    "### show many frequencies"
   ]
  },
  {
   "cell_type": "code",
   "execution_count": null,
   "metadata": {
    "collapsed": true
   },
   "outputs": [],
   "source": [
    "amp_pred_corrs, orig_acc, new_accs = np.load('data/models/pytorch/auto-diag/6000-input/21/gaussian.perturbation.30.npy')\n",
    "mean_corr = np.mean(amp_pred_corrs, axis=0)\n",
    "\n",
    "fs = 100.0\n",
    "freqs = np.fft.rfftfreq(6000, d=1.0/fs)\n",
    "assert freqs.shape[0] == mean_corr.shape[1]"
   ]
  },
  {
   "cell_type": "code",
   "execution_count": null,
   "metadata": {
    "collapsed": true
   },
   "outputs": [],
   "source": [
    "freq_start_stops = ((0,4), (4,8),(8,14),(14,20), (20,30),(30,50))"
   ]
  },
  {
   "cell_type": "code",
   "execution_count": null,
   "metadata": {},
   "outputs": [],
   "source": [
    "from braindecode.visualization.plot import ax_scalp\n",
    "from autodiag.plot import add_colorbar_to_scalp_grid\n",
    "plt.plot(freqs, np.mean(mean_corr, axis=0)[:,1])\n",
    "plt.xlabel('Freq [Hz]')\n",
    "plt.ylabel('Average correlation with\\n abnormal class', fontsize=14)\n",
    "fig, axes = plt.subplots(1, len(freq_start_stops), figsize=(20,4))\n",
    "for i_plot, (freq_start, freq_stop) in enumerate(freq_start_stops):\n",
    "    i_start = np.searchsorted(freqs,freq_start)\n",
    "    i_stop = np.searchsorted(freqs, freq_stop) + 1\n",
    "    freq_corr = np.mean(mean_corr[:,i_start:i_stop], axis=1)\n",
    "    max_abs_val = np.max(np.abs(freq_corr))\n",
    "    ax = axes[i_plot]\n",
    "    ax_scalp(freq_corr[:,1], ch_names, chan_pos_list=POS_APPROX, cmap=cm.coolwarm,\n",
    "            vmin=-0.005, vmax=0.005, ax=ax,annotate=True)\n",
    "    ax.set_title(u\"{:d}—{:d} Hz\".format(freq_start, freq_stop))\n",
    "add_colorbar_to_scalp_grid(fig, axes, \"Correlation\", min_max_ticks=False)"
   ]
  },
  {
   "cell_type": "code",
   "execution_count": null,
   "metadata": {},
   "outputs": [],
   "source": [
    "amp_pred_corrs, orig_acc, new_accs = np.load('data/models/pytorch/auto-diag/6000-input/22/gaussian.perturbation.30.npy')\n",
    "mean_corr = np.mean(amp_pred_corrs, axis=0)\n",
    "\n",
    "fs = 100.0\n",
    "freqs = np.fft.rfftfreq(6000, d=1.0/fs)\n",
    "assert freqs.shape[0] == mean_corr.shape[1]\n",
    "\n",
    "print(open('data/models/pytorch/auto-diag/6000-input/22/config.json', 'r').read())\n"
   ]
  },
  {
   "cell_type": "code",
   "execution_count": null,
   "metadata": {},
   "outputs": [],
   "source": [
    "from braindecode.visualization.plot import ax_scalp\n",
    "plt.plot(freqs, np.mean(mean_corr, axis=0)[:,1])\n",
    "plt.xlabel('Freq [Hz]')\n",
    "plt.ylabel('Average correlation with\\n abnormal class', fontsize=14)\n",
    "fig, axes = plt.subplots(1, len(freq_start_stops), figsize=(20,4))\n",
    "for i_plot, (freq_start, freq_stop) in enumerate(freq_start_stops):\n",
    "    i_start = np.searchsorted(freqs,freq_start)\n",
    "    i_stop = np.searchsorted(freqs, freq_stop) + 1\n",
    "    freq_corr = np.mean(mean_corr[:,i_start:i_stop], axis=1)\n",
    "    max_abs_val = np.max(np.abs(freq_corr))\n",
    "    ax = axes[i_plot]\n",
    "    ax_scalp(freq_corr[:,1], ch_names, chan_pos_list=POS_APPROX, cmap=cm.coolwarm,\n",
    "            vmin=-0.005, vmax=0.005, ax=ax,annotate=True)\n",
    "    ax.set_title(u\"{:d}—{:d} Hz\".format(freq_start, freq_stop))\n",
    "add_colorbar_to_scalp_grid(fig, axes, \"Correlation\", min_max_ticks=False)"
   ]
  },
  {
   "cell_type": "code",
   "execution_count": null,
   "metadata": {},
   "outputs": [],
   "source": [
    "np.max(np.abs(mean_corr))"
   ]
  }
 ],
 "metadata": {
  "kernelspec": {
   "display_name": "Python 3",
   "language": "python",
   "name": "python3"
  },
  "language_info": {
   "codemirror_mode": {
    "name": "ipython",
    "version": 3
   },
   "file_extension": ".py",
   "mimetype": "text/x-python",
   "name": "python",
   "nbconvert_exporter": "python",
   "pygments_lexer": "ipython3",
   "version": "3.5.2"
  }
 },
 "nbformat": 4,
 "nbformat_minor": 2
}
