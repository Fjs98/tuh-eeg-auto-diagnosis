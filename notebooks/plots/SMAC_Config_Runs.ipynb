{
 "cells": [
  {
   "cell_type": "code",
   "execution_count": null,
   "metadata": {
    "collapsed": true
   },
   "outputs": [],
   "source": [
    "%%capture\n",
    "from importlib import reload\n",
    "import logging\n",
    "reload(logging)\n",
    "logging.basicConfig(format='%(asctime)s %(levelname)s:%(message)s', level=logging.DEBUG, datefmt='%I:%M:%S')\n",
    "log = logging.getLogger()\n",
    "log.setLevel(logging.DEBUG)\n",
    "\n",
    "import os\n",
    "import site\n",
    "os.sys.path.insert(0, '/home/schirrmr/braindecode/code/')\n",
    "os.sys.path.insert(0, '/home/schirrmr/braindecode/code/braindecode/')\n",
    "%cd /home/schirrmr/\n",
    "# switch to cpu\n",
    "os.environ['THEANO_FLAGS'] = 'floatX=float32,device=cpu,nvcc.fastmath=True'\n",
    "\n",
    "%load_ext autoreload\n",
    "%autoreload 2\n",
    "\n",
    "import numpy as np\n",
    "import matplotlib\n",
    "from matplotlib import pyplot as plt\n",
    "from matplotlib import cm\n",
    "%matplotlib inline\n",
    "%config InlineBackend.figure_format = 'svg' \n",
    "matplotlib.rcParams['font.size'] = 7\n",
    "\n",
    "import matplotlib.lines as mlines\n",
    "import seaborn\n",
    "seaborn.set_style('darkgrid')\n",
    "matplotlib.rcParams['figure.figsize'] = (12.0, 3.0)\n",
    "from hyperoptim.results import load_data_frame, remove_columns_with_same_value, dataset_averaged_frame\n",
    "from hyperoptim.results import mean_identical_exps\n",
    "import pandas as pd\n",
    "from hyperoptim.results import remove_columns_with_same_value, remove_indices_with_same_value\n",
    "\n",
    "import json\n",
    "from collections import OrderedDict\n",
    "\n",
    "from copy import deepcopy\n",
    "from glob import glob "
   ]
  },
  {
   "cell_type": "code",
   "execution_count": null,
   "metadata": {},
   "outputs": [],
   "source": [
    "entry[0][0]"
   ]
  },
  {
   "cell_type": "code",
   "execution_count": null,
   "metadata": {},
   "outputs": [],
   "source": [
    "all_entries[0]"
   ]
  },
  {
   "cell_type": "code",
   "execution_count": null,
   "metadata": {},
   "outputs": [],
   "source": [
    "len(all_entries)"
   ]
  },
  {
   "cell_type": "code",
   "execution_count": null,
   "metadata": {},
   "outputs": [],
   "source": [
    "folder = 'data/models/pytorch/auto-diag/smac-shallow//'\n",
    "runhistory_folders = glob(os.path.join(folder,'deterministic_run*/'))\n",
    "entry_numbers = []\n",
    "run_ids = sorted([int(f.split('run')[-1][:-1]) for f in runhistory_folders])\n",
    "for run_id in run_ids:\n",
    "    print(run_id)\n",
    "    trac_filename = os.path.join(\n",
    "        folder, 'deterministic_run{:d}/traj_aclib2.json'.format(run_id))\n",
    "    content = open(trac_filename, 'r').read()\n",
    "    print(\"len\", len(content.split('\\n')))"
   ]
  },
  {
   "cell_type": "code",
   "execution_count": null,
   "metadata": {},
   "outputs": [],
   "source": []
  },
  {
   "cell_type": "code",
   "execution_count": null,
   "metadata": {},
   "outputs": [],
   "source": [
    "traj_json"
   ]
  },
  {
   "cell_type": "code",
   "execution_count": null,
   "metadata": {
    "collapsed": true
   },
   "outputs": [],
   "source": [
    "folder = 'data/models/pytorch/auto-diag/smac-deep4/'\n",
    "runhistory_folders = glob(os.path.join(folder,'deterministic_run*/'))\n",
    "entry_numbers = []\n",
    "run_ids = sorted([int(f.split('run')[-1][:-1]) for f in runhistory_folders])\n",
    "for run_id in run_ids:\n",
    "    runhistory_filename = os.path.join(\n",
    "        folder, 'deterministic_run{:d}/runhistory.json'.format(run_id))\n",
    "    content = open(runhistory_filename, 'r').read()\n",
    "    runjson = json.loads(content)\n",
    "    #print(run_id)\n",
    "    this_entry_nums = [entry[0][0] for entry in runjson['data']]\n",
    "    entry_numbers.append(this_entry_nums)"
   ]
  },
  {
   "cell_type": "markdown",
   "metadata": {},
   "source": [
    "## Find reason discrepancy my statistics best smac"
   ]
  },
  {
   "cell_type": "code",
   "execution_count": null,
   "metadata": {
    "collapsed": true
   },
   "outputs": [],
   "source": [
    "folder = 'data/models/pytorch/auto-diag/smac-shallow/'\n",
    "\n",
    "runhistory_filename = os.path.join(\n",
    "        folder, 'deterministic_run8/runhistory.json'.format(run_id))\n",
    "content = open(runhistory_filename, 'r').read()\n",
    "runjson = json.loads(content)"
   ]
  },
  {
   "cell_type": "code",
   "execution_count": null,
   "metadata": {
    "collapsed": true
   },
   "outputs": [],
   "source": [
    "entries = runjson['data']\n",
    "configs = runjson['configs']"
   ]
  },
  {
   "cell_type": "code",
   "execution_count": null,
   "metadata": {},
   "outputs": [],
   "source": [
    "len([e for e in entries if e[0][0] == 364])"
   ]
  },
  {
   "cell_type": "code",
   "execution_count": null,
   "metadata": {},
   "outputs": [],
   "source": [
    "[e for e in entries if e[0][0] == 364]"
   ]
  },
  {
   "cell_type": "code",
   "execution_count": null,
   "metadata": {
    "collapsed": true
   },
   "outputs": [],
   "source": [
    "ent"
   ]
  },
  {
   "cell_type": "markdown",
   "metadata": {},
   "source": [
    "## Run statistics\n",
    "\n"
   ]
  },
  {
   "cell_type": "code",
   "execution_count": null,
   "metadata": {
    "scrolled": true
   },
   "outputs": [],
   "source": [
    "all_entries = []\n",
    "enum_crashed = 'StatusType.CRASHED'\n",
    "enum_success = 'StatusType.SUCCESS'\n",
    "enum_timeout = 'StatusType.TIMEOUT'\n",
    "specific_entries = {enum_crashed:[], enum_success: [], enum_timeout: []}\n",
    "folder = 'data/models/pytorch/auto-diag/smac-deep4/'\n",
    "runhistory_folders = glob(os.path.join(folder,'deterministic_run*/'))\n",
    "run_ids = sorted([int(f.split('run')[-1][:-1]) for f in runhistory_folders])\n",
    "for run_id in run_ids:\n",
    "    runhistory_filename = os.path.join(\n",
    "        folder, 'deterministic_run{:d}/runhistory.json'.format(run_id))\n",
    "    content = open(runhistory_filename, 'r').read()\n",
    "    runjson = json.loads(content)\n",
    "    #print(run_id)\n",
    "    for entry in runjson['data']:\n",
    "        assert entry[1][1] != 1234567890\n",
    "        outcome = entry[1][2]\n",
    "        assert outcome['__enum__'] in (enum_crashed,enum_success,enum_timeout)\n",
    "        specific_entries[outcome['__enum__']].append(tuple(entry[0]))\n",
    "        all_entries.append(tuple(entry[0]))\n",
    "    #print(\"len entry\", len(runjson['data']))\n",
    "\n",
    "n_all_runs= len(all_entries)\n",
    "n_unique_runs= len(set(all_entries))\n",
    "n_unique_configs = len(set([e[0] for e in all_entries]))\n",
    "print(\"all entries\", n_all_runs)\n",
    "print(\"unique configs\", n_unique_configs)\n",
    "\n",
    "for key in specific_entries:\n",
    "    n_runs = len(specific_entries[key])\n",
    "    print(key, n_runs, np.round(100 *  n_runs/ float(n_all_runs),0))\n",
    "    n_this_unique_configs = len(np.unique([config for config, fold, _ in specific_entries[key]]))\n",
    "    print(key, n_this_unique_configs,\n",
    "          np.round(100 * n_this_unique_configs / float(n_unique_configs)))\n",
    "\n",
    "    \n",
    "successes = set([e[0] for e in specific_entries['StatusType.SUCCESS']])\n",
    "timeouts = set([e[0] for e in specific_entries['StatusType.TIMEOUT']])\n",
    "crashes = set([e[0] for e in specific_entries['StatusType.CRASHED']])\n",
    "all_successful = np.setdiff1d(np.setdiff1d(list(successes), list(timeouts)), list(crashes))\n",
    "all_timeouts = np.setdiff1d(np.setdiff1d(list(timeouts), list(successes)), list(crashes))\n",
    "all_crashes = np.setdiff1d(np.setdiff1d(list(crashes), list(successes)), list(timeouts))\n",
    "print(\"all success\", len(all_successful), \n",
    "       np.round(100 * len(all_successful) / float(len(set([e[0] for e in all_entries]))),0))\n",
    "all_successful = np.setdiff1d(np.setdiff1d(list(successes), list(timeouts)), list(crashes))\n",
    "print(\"all timeout\", len(all_timeouts), \n",
    "       np.round(100 * len(all_timeouts) / float(len(set([e[0] for e in all_entries]))),0))\n",
    "all_successful = np.setdiff1d(np.setdiff1d(list(successes), list(timeouts)), list(crashes))\n",
    "print(\"all crashes\", len(all_crashes), \n",
    "       np.round(100 * len(all_crashes) / float(len(set([e[0] for e in all_entries]))),0))"
   ]
  },
  {
   "cell_type": "code",
   "execution_count": null,
   "metadata": {
    "collapsed": true
   },
   "outputs": [],
   "source": []
  },
  {
   "cell_type": "code",
   "execution_count": null,
   "metadata": {},
   "outputs": [],
   "source": [
    "all_entries = []\n",
    "enum_crashed = 'StatusType.CRASHED'\n",
    "enum_success = 'StatusType.SUCCESS'\n",
    "enum_timeout = 'StatusType.TIMEOUT'\n",
    "specific_entries = {enum_crashed:[], enum_success: [], enum_timeout: []}\n",
    "folder = 'data/models/pytorch/auto-diag/smac-shallow//'\n",
    "runhistory_folders = glob(os.path.join(folder,'deterministic_run*/'))\n",
    "run_ids = sorted([int(f.split('run')[-1][:-1]) for f in runhistory_folders])\n",
    "for run_id in run_ids:\n",
    "    runhistory_filename = os.path.join(\n",
    "        folder, 'deterministic_run{:d}/runhistory.json'.format(run_id))\n",
    "    content = open(runhistory_filename, 'r').read()\n",
    "    runjson = json.loads(content)\n",
    "    #print(run_id)\n",
    "    for entry in runjson['data']:\n",
    "        assert entry[1][1] != 1234567890\n",
    "        outcome = entry[1][2]\n",
    "        assert outcome['__enum__'] in (enum_crashed,enum_success,enum_timeout)\n",
    "        specific_entries[outcome['__enum__']].append(tuple(entry[0]))\n",
    "        all_entries.append(tuple(entry[0]))\n",
    "    #print(\"len entry\", len(runjson['data']))\n",
    "\n",
    "n_all_runs= len(all_entries)\n",
    "n_unique_runs= len(set(all_entries))\n",
    "n_unique_configs = len(set([e[0] for e in all_entries]))\n",
    "print(\"all entries\", n_all_runs)\n",
    "print(\"unique configs\", n_unique_configs)\n",
    "\n",
    "for key in specific_entries:\n",
    "    n_runs = len(specific_entries[key])\n",
    "    print(key, n_runs, np.round(100 *  n_runs/ float(n_all_runs),0))\n",
    "    n_this_unique_configs = len(np.unique([config for config, fold, _ in specific_entries[key]]))\n",
    "    print(key, n_this_unique_configs,\n",
    "          np.round(100 * n_this_unique_configs / float(n_unique_configs)))\n",
    "\n",
    "    \n",
    "successes = set([e[0] for e in specific_entries['StatusType.SUCCESS']])\n",
    "timeouts = set([e[0] for e in specific_entries['StatusType.TIMEOUT']])\n",
    "crashes = set([e[0] for e in specific_entries['StatusType.CRASHED']])\n",
    "all_successful = np.setdiff1d(np.setdiff1d(list(successes), list(timeouts)), list(crashes))\n",
    "all_timeouts = np.setdiff1d(np.setdiff1d(list(timeouts), list(successes)), list(crashes))\n",
    "all_crashes = np.setdiff1d(np.setdiff1d(list(crashes), list(successes)), list(timeouts))\n",
    "print(\"all success\", len(all_successful), \n",
    "       np.round(100 * len(all_successful) / float(len(set([e[0] for e in all_entries]))),0))\n",
    "all_successful = np.setdiff1d(np.setdiff1d(list(successes), list(timeouts)), list(crashes))\n",
    "print(\"all timeout\", len(all_timeouts), \n",
    "       np.round(100 * len(all_timeouts) / float(len(set([e[0] for e in all_entries]))),0))\n",
    "all_successful = np.setdiff1d(np.setdiff1d(list(successes), list(timeouts)), list(crashes))\n",
    "print(\"all crashes\", len(all_crashes), \n",
    "       np.round(100 * len(all_crashes) / float(len(set([e[0] for e in all_entries]))),0))"
   ]
  }
 ],
 "metadata": {
  "kernelspec": {
   "display_name": "Python 3",
   "language": "python",
   "name": "python3"
  },
  "language_info": {
   "codemirror_mode": {
    "name": "ipython",
    "version": 3
   },
   "file_extension": ".py",
   "mimetype": "text/x-python",
   "name": "python",
   "nbconvert_exporter": "python",
   "pygments_lexer": "ipython3",
   "version": "3.5.2"
  }
 },
 "nbformat": 4,
 "nbformat_minor": 2
}
