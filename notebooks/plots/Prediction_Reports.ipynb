{
 "cells": [
  {
   "cell_type": "code",
   "execution_count": null,
   "metadata": {},
   "outputs": [],
   "source": [
    "import os\n",
    "import site\n",
    "os.sys.path.insert(0, '/home/schirrmr/braindecode/code/')\n",
    "os.sys.path.insert(0, '/home/schirrmr/braindecode/code/braindecode/')\n",
    "os.sys.path.insert(0, '/home/schirrmr/code/auto-diagnosis/')\n",
    "%cd /home/schirrmr/\n",
    "# switch to cpu\n",
    "os.environ['THEANO_FLAGS'] = 'floatX=float32,device=cpu,nvcc.fastmath=True'\n",
    "\n",
    "%load_ext autoreload\n",
    "%autoreload 2\n",
    "import numpy as np\n",
    "import matplotlib\n",
    "from matplotlib import pyplot as plt\n",
    "from matplotlib import cm\n",
    "%matplotlib inline\n",
    "%config InlineBackend.figure_format = 'png' \n",
    "matplotlib.rcParams['font.size'] = 7\n",
    "\n",
    "import matplotlib.lines as mlines\n",
    "import seaborn\n",
    "seaborn.set_style('darkgrid')\n",
    "matplotlib.rcParams['figure.figsize'] = (12.0, 3.0)\n",
    "import logging\n",
    "import importlib\n",
    "importlib.reload(logging) # see https://stackoverflow.com/a/21475297/1469195\n",
    "log = logging.getLogger()\n",
    "log.setLevel('DEBUG')\n",
    "import sys\n",
    "logging.basicConfig(format='%(asctime)s %(levelname)s : %(message)s',\n",
    "                     level=logging.DEBUG, stream=sys.stdout)\n",
    "from numpy.random import RandomState\n",
    "from braindecode.torch_ext.util import np_to_var\n",
    "from autodiag.perturbation import combine_covs, combine_vars"
   ]
  },
  {
   "cell_type": "code",
   "execution_count": null,
   "metadata": {
    "collapsed": true
   },
   "outputs": [],
   "source": [
    "import re"
   ]
  },
  {
   "cell_type": "code",
   "execution_count": null,
   "metadata": {
    "collapsed": true
   },
   "outputs": [],
   "source": [
    "from nltk import word_tokenize, regexp_tokenize"
   ]
  },
  {
   "cell_type": "code",
   "execution_count": null,
   "metadata": {
    "collapsed": true
   },
   "outputs": [],
   "source": [
    "import nltk"
   ]
  },
  {
   "cell_type": "code",
   "execution_count": null,
   "metadata": {
    "collapsed": true
   },
   "outputs": [],
   "source": [
    "from autodiag.dataset import get_all_sorted_file_names_and_labels\n",
    "from autodiag.count_words import compute_counts_and_relative_frequencies, compute_imprs_word_counts"
   ]
  },
  {
   "cell_type": "code",
   "execution_count": null,
   "metadata": {
    "collapsed": true
   },
   "outputs": [],
   "source": [
    "file_names, labels = get_all_sorted_file_names_and_labels('eval')\n",
    "file_names = np.array(file_names)"
   ]
  },
  {
   "cell_type": "code",
   "execution_count": null,
   "metadata": {
    "collapsed": true
   },
   "outputs": [],
   "source": []
  },
  {
   "cell_type": "code",
   "execution_count": null,
   "metadata": {
    "collapsed": true
   },
   "outputs": [],
   "source": [
    "\n",
    "result = compute_counts_and_relative_frequencies(file_names, np.zeros(len(labels)),\n",
    "                                                 correct_mask=labels == 0,\n",
    "                                       label=0)"
   ]
  },
  {
   "cell_type": "code",
   "execution_count": null,
   "metadata": {
    "collapsed": true
   },
   "outputs": [],
   "source": [
    "n_words = sum(list(result.incorrect_counter.values()))"
   ]
  },
  {
   "cell_type": "code",
   "execution_count": null,
   "metadata": {
    "collapsed": true
   },
   "outputs": [],
   "source": [
    "all_words_freqs = [(word, result.incorrect_counter[word] / float(n_words)) for word in result.incorrect_counter]"
   ]
  },
  {
   "cell_type": "code",
   "execution_count": null,
   "metadata": {
    "collapsed": true
   },
   "outputs": [],
   "source": [
    "all_words_freqs = sorted(all_words_freqs, key=lambda t: t[1])"
   ]
  },
  {
   "cell_type": "code",
   "execution_count": null,
   "metadata": {},
   "outputs": [],
   "source": [
    "for word, freq in all_words_freqs[::-1][:10]:\n",
    "    print(word, freq)"
   ]
  },
  {
   "cell_type": "code",
   "execution_count": null,
   "metadata": {},
   "outputs": [],
   "source": [
    "\n",
    "\n",
    "print(\"\\n ----------------------------------------------\\n\")\n",
    "for key, rel_freq in result.freq_ratios[::-1][:20]:\n",
    "    if rel_freq < 3:\n",
    "        break\n",
    "    print(\"{:20s} {:5.2f} {:d} {:d}\".format(key, rel_freq, \n",
    "                                            result.correct_counter[key] > 0,\n",
    "                                            result.incorrect_counter[key] > 0))"
   ]
  },
  {
   "cell_type": "markdown",
   "metadata": {},
   "source": [
    "### incorrect vs correct"
   ]
  },
  {
   "cell_type": "code",
   "execution_count": null,
   "metadata": {
    "collapsed": true
   },
   "outputs": [],
   "source": [
    "trial_preds = np.load('data/models/pytorch/auto-diag/6000-input/21/test_trial_preds.npy')\n",
    "trial_labels = np.load('data/models/pytorch/auto-diag/6000-input/21/test_trial_labels.npy')"
   ]
  },
  {
   "cell_type": "code",
   "execution_count": null,
   "metadata": {
    "collapsed": true
   },
   "outputs": [],
   "source": [
    "correct_mask = np.argmax(trial_preds, axis=1) == trial_labels"
   ]
  },
  {
   "cell_type": "code",
   "execution_count": null,
   "metadata": {},
   "outputs": [],
   "source": [
    "print(str(sum(~correct_mask & (labels == 1))) + \" errors\\n\")\n",
    "\n",
    "result = compute_counts_and_relative_frequencies(file_names, labels, correct_mask=correct_mask,\n",
    "                                       label=1)\n",
    "\n",
    "for key, rel_freq in result.freq_ratios:\n",
    "    if rel_freq > 0.5:\n",
    "        break\n",
    "    print(\"{:20s} {:5.2f} {:d} {:d}\".format(key, rel_freq, result.correct_counter[key] > 0, \n",
    "                                            result.incorrect_counter[key] > 0))\n",
    "\n",
    "print(\"\\n ----------------------------------------------\\n\")\n",
    "for key, rel_freq in result.freq_ratios[::-1][:20]:\n",
    "    if rel_freq < 3:\n",
    "        break\n",
    "    print(\"{:20s} {:5.2f} {:d} {:d}\".format(key, rel_freq, \n",
    "                                            result.correct_counter[key] > 0,\n",
    "                                            result.incorrect_counter[key] > 0))\n",
    "print(\"\\n ----------------------------------------------\\n\\n\\n\")\n",
    "    \n",
    "for key, freq_diff in result.freq_diffs:\n",
    "    if freq_diff > -0.005:\n",
    "        break\n",
    "    print(\"{:20s} {:5.2f} {:d} {:d}\".format(key, freq_diff*100, result.correct_counter[key] > 0, \n",
    "                                            result.incorrect_counter[key] > 0))\n",
    "\n",
    "print(\"\\n ----------------------------------------------\\n\")\n",
    "for key, freq_diff in result.freq_diffs[::-1][:20]:\n",
    "    if freq_diff < 0.005:\n",
    "        break\n",
    "    print(\"{:20s} {:5.2f} {:d} {:d}\".format(key, freq_diff*100, \n",
    "                                            result.correct_counter[key] > 0,\n",
    "                                            result.incorrect_counter[key] > 0))"
   ]
  },
  {
   "cell_type": "code",
   "execution_count": null,
   "metadata": {},
   "outputs": [],
   "source": [
    "[print(impr +\"\\n\") for impr in result.correct_imprs];"
   ]
  },
  {
   "cell_type": "code",
   "execution_count": null,
   "metadata": {},
   "outputs": [],
   "source": [
    "[print(impr +\"\\n\") for impr in result.incorrect_imprs];"
   ]
  },
  {
   "cell_type": "code",
   "execution_count": null,
   "metadata": {},
   "outputs": [],
   "source": [
    "print(str(sum(~correct_mask & (labels == 0))) + \" errors\\n\")\n",
    "\n",
    "result = compute_counts_and_relative_frequencies(file_names, labels,correct_mask=correct_mask,\n",
    "                                       label=0)\n",
    "\n",
    "for key, rel_freq in result.freq_ratios:\n",
    "    if rel_freq > 0.4:\n",
    "        break\n",
    "    print(\"{:20s} {:5.2f} {:d} {:d}\".format(key, rel_freq, result.correct_counter[key] > 0, \n",
    "                                            result.incorrect_counter[key] > 0))\n",
    "\n",
    "print(\"\\n ----------------------------------------------\\n\")\n",
    "for key, rel_freq in result.freq_ratios[::-1][:20]:\n",
    "    if rel_freq < 3:\n",
    "        break\n",
    "    print(\"{:20s} {:5.2f} {:d} {:d}\".format(key, rel_freq, \n",
    "                                            result.correct_counter[key] > 0,\n",
    "                                            result.incorrect_counter[key] > 0))\n",
    "print(\"\\n ----------------------------------------------\\n\\n\\n\")\n",
    "    \n",
    "for key, freq_diff in result.freq_diffs:\n",
    "    if freq_diff > -0.005:\n",
    "        break\n",
    "    print(\"{:20s} {:5.2f} {:d} {:d}\".format(key, freq_diff*100, result.correct_counter[key] > 0, \n",
    "                                            result.incorrect_counter[key] > 0))\n",
    "\n",
    "print(\"\\n ----------------------------------------------\\n\")\n",
    "for key, freq_diff in result.freq_diffs[::-1][:20]:\n",
    "    if freq_diff < 0.005:\n",
    "        break\n",
    "    print(\"{:20s} {:5.2f} {:d} {:d}\".format(key, freq_diff*100, \n",
    "                                            result.correct_counter[key] > 0,\n",
    "                                            result.incorrect_counter[key] > 0))"
   ]
  },
  {
   "cell_type": "code",
   "execution_count": null,
   "metadata": {
    "scrolled": false
   },
   "outputs": [],
   "source": [
    "[print(impr +\"\\n\") for impr in result.correct_imprs];"
   ]
  },
  {
   "cell_type": "code",
   "execution_count": null,
   "metadata": {},
   "outputs": [],
   "source": [
    "result.correct_counter['as']"
   ]
  },
  {
   "cell_type": "code",
   "execution_count": null,
   "metadata": {},
   "outputs": [],
   "source": [
    "[print(impr +\"\\n\") for impr in result.incorrect_imprs];"
   ]
  },
  {
   "cell_type": "code",
   "execution_count": null,
   "metadata": {
    "scrolled": false
   },
   "outputs": [],
   "source": [
    "[print(impr +\"\\n\") for impr in correct_abnormal_imprs];"
   ]
  },
  {
   "cell_type": "code",
   "execution_count": null,
   "metadata": {
    "collapsed": true
   },
   "outputs": [],
   "source": [
    "correct_normal = correct_mask & (labels == 0)\n",
    "correct_normal_texts = extract_texts(file_names[np.flatnonzero(correct_normal)])\n",
    "correct_normal_dicts = [extract_dict(t) for t in correct_normal_texts]\n",
    "\n",
    "incorrect_abnormal = (~correct_abnormal) & (labels == 1)\n",
    "incorrect_abnormal_texts = extract_texts(file_names[np.flatnonzero(incorrect_abnormal)])\n",
    "incorrect_abnormal_dicts = [extract_dict(t) for t in incorrect_abnormal_texts]\n",
    "\n",
    "incorrect_abnormal_imprs = [d['IMPRESSION'] for d in incorrect_abnormal_dicts]\n",
    "\n",
    "correct_abnormal_imprs = [d['IMPRESSION'] for d in correct_abnormal_dicts]\n",
    "compare_freqs = []\n",
    "incorrect_counter = Counter(incorrect_abnormal_words)\n",
    "correct_counter = Counter(correct_abnormal_words)\n",
    "\n",
    "\n",
    "for key in set(incorrect_counter.keys()) | set(correct_counter.keys()):\n",
    "    if (incorrect_counter[key] > 1) or (correct_counter[key] > 1):\n",
    "        rel_freq = np.maximum(incorrect_counter[key],1) / np.maximum(correct_counter[key], 1)\n",
    "        rel_freq *= len(correct_abnormal_words) / float(len(incorrect_abnormal_words))\n",
    "        compare_freqs.append((key, rel_freq))\n",
    "\n",
    "sorted_freqs = sorted(compare_freqs, key=lambda t: t[1])"
   ]
  }
 ],
 "metadata": {
  "kernelspec": {
   "display_name": "Python 3",
   "language": "python",
   "name": "python3"
  },
  "language_info": {
   "codemirror_mode": {
    "name": "ipython",
    "version": 3
   },
   "file_extension": ".py",
   "mimetype": "text/x-python",
   "name": "python",
   "nbconvert_exporter": "python",
   "pygments_lexer": "ipython3",
   "version": "3.6.2"
  }
 },
 "nbformat": 4,
 "nbformat_minor": 2
}
