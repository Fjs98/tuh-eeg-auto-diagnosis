{
 "cells": [
  {
   "cell_type": "code",
   "execution_count": null,
   "metadata": {},
   "outputs": [],
   "source": [
    "import os\n",
    "import site\n",
    "os.sys.path.insert(0, '/home/schirrmr/braindecode/code/')\n",
    "os.sys.path.insert(0, '/home/schirrmr/braindecode/code/braindecode/')\n",
    "os.sys.path.insert(0, '/home/schirrmr/code/auto-diagnosis/')\n",
    "%cd /home/schirrmr/\n",
    "# switch to cpu\n",
    "os.environ['THEANO_FLAGS'] = 'floatX=float32,device=cpu,nvcc.fastmath=True'\n",
    "\n",
    "%load_ext autoreload\n",
    "%autoreload 2\n",
    "import numpy as np\n",
    "import matplotlib\n",
    "from matplotlib import pyplot as plt\n",
    "from matplotlib import cm\n",
    "%matplotlib inline\n",
    "%config InlineBackend.figure_format = 'svg' \n",
    "matplotlib.rcParams['font.size'] = 7\n",
    "\n",
    "import matplotlib.lines as mlines\n",
    "import seaborn\n",
    "seaborn.set_style('darkgrid')\n",
    "matplotlib.rcParams['figure.figsize'] = (12.0, 3.0)\n",
    "import logging\n",
    "import importlib\n",
    "importlib.reload(logging) # see https://stackoverflow.com/a/21475297/1469195\n",
    "log = logging.getLogger()\n",
    "log.setLevel('DEBUG')\n",
    "import sys\n",
    "logging.basicConfig(format='%(asctime)s %(levelname)s : %(message)s',\n",
    "                     level=logging.DEBUG, stream=sys.stdout)\n",
    "from numpy.random import RandomState\n",
    "from braindecode.torch_ext.util import np_to_var\n",
    "from autodiag.perturbation import combine_covs, combine_vars"
   ]
  },
  {
   "cell_type": "code",
   "execution_count": null,
   "metadata": {
    "collapsed": true
   },
   "outputs": [],
   "source": [
    "from autodiag.plot import plot_confusion_matrix_paper"
   ]
  },
  {
   "cell_type": "code",
   "execution_count": null,
   "metadata": {
    "collapsed": true
   },
   "outputs": [],
   "source": [
    "from sklearn.metrics import confusion_matrix\n",
    "def compute_conf_mat(folder, exp_ids):\n",
    "    trial_preds = [np.load(os.path.join(folder, str(exp_id), 'test_trial_preds.npy'))\n",
    "                   for exp_id in exp_ids]\n",
    "    trial_labels = [np.load(os.path.join(folder, str(exp_id), 'test_trial_labels.npy')) \n",
    "                    for exp_id in exp_ids]\n",
    "    trial_preds = np.concatenate(trial_preds)\n",
    "    trial_labels = np.concatenate(trial_labels)\n",
    "    trial_pred_labels = np.argmax(trial_preds, axis=1)\n",
    "    return confusion_matrix(trial_labels, trial_pred_labels)"
   ]
  },
  {
   "cell_type": "code",
   "execution_count": null,
   "metadata": {},
   "outputs": [],
   "source": [
    "1 "
   ]
  },
  {
   "cell_type": "code",
   "execution_count": null,
   "metadata": {},
   "outputs": [],
   "source": [
    "conf_mat = compute_conf_mat('data/models/pytorch/auto-diag/6000-input', [21,24])\n",
    "plot_confusion_matrix_paper(conf_mat, class_names=(\"Normal\", \"Pathological\"), colormap=cm.Reds,\n",
    "                                  class_names_fontsize=11,\n",
    "                           vmin=0.05, vmax=0.5);\n",
    "plt.savefig('/home/schirrmr/code/auto-diagnosis/ConfMatDeep.svg', bbox_inches='tight', dpi=600, pad_inches=0)"
   ]
  },
  {
   "cell_type": "code",
   "execution_count": null,
   "metadata": {},
   "outputs": [],
   "source": [
    "conf_mat = compute_conf_mat('data/models/pytorch/auto-diag/6000-input', [22,25])\n",
    "fig = plot_confusion_matrix_paper(conf_mat, class_names=(\"Normal\", \"Pathological\"),\n",
    "                                 colormap=cm.Reds,\n",
    "                                  class_names_fontsize=11,\n",
    "                           vmin=0.05, vmax=0.5);\n",
    "plt.title(\"\", fontsize=20, y=1.04)\n",
    "\n",
    "cbar = plt.colorbar(fig.axes[0].images[0], shrink=0.9)\n",
    "ticks = np.linspace(cbar.get_clim()[0], cbar.get_clim()[1], 5, endpoint=True)\n",
    "cbar.set_ticks(ticks)\n",
    "cbar.set_ticklabels(np.round(ticks * 100,1))\n",
    "cbar.set_label('Trials [%]', labelpad=10, fontsize=14)\n",
    "plt.savefig('/home/schirrmr/code/auto-diagnosis/ConfMatShallow.svg', bbox_inches='tight', dpi=600, pad_inches=0)"
   ]
  },
  {
   "cell_type": "code",
   "execution_count": null,
   "metadata": {
    "collapsed": true
   },
   "outputs": [],
   "source": []
  }
 ],
 "metadata": {
  "kernelspec": {
   "display_name": "Python 3",
   "language": "python",
   "name": "python3"
  },
  "language_info": {
   "codemirror_mode": {
    "name": "ipython",
    "version": 3
   },
   "file_extension": ".py",
   "mimetype": "text/x-python",
   "name": "python",
   "nbconvert_exporter": "python",
   "pygments_lexer": "ipython3",
   "version": "3.6.2"
  }
 },
 "nbformat": 4,
 "nbformat_minor": 2
}
